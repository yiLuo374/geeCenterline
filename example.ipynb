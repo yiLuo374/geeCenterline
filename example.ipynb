{
 "cells": [
  {
   "cell_type": "code",
   "execution_count": 1,
   "id": "affb366d",
   "metadata": {},
   "outputs": [],
   "source": [
    "import ee\n",
    "import geemap\n",
    "from geeCenterline import *\n",
    "ee.Initialize()"
   ]
  },
  {
   "cell_type": "markdown",
   "id": "e7423677",
   "metadata": {},
   "source": [
    "# Centerline extraction of the Tallahatchie River\n",
    "This notebook provides an example of how to extract the centerline of river from remote sensing images. In this example, we are going to use the surface reflectance images provided by Landsat and PlanetScope. To concentrate on the workflow of centerline extraction, we have already upload images we need to assets of Google Earth Engine. However, users of Google Earth Engine can obtain Landsat collection directly. Instructions to upload Landsat images through Google Earth Engine is in [here](https://developers.google.com/earth-engine/datasets/catalog/LANDSAT_LC08_C02_T1_L2)."
   ]
  },
  {
   "cell_type": "markdown",
   "id": "ee12e0f8",
   "metadata": {},
   "source": [
    "# Import images\n",
    "AssetIDs of images going to be uploaded are required and images should includes at least four bands: blue, green, red, and near-infrared, and the short-wave near-infrared band is also recommended to be included if avaliable. Names of these bands should be uniformed as 'Red', 'Green', 'Blue', 'NIR', 'SWIR1'."
   ]
  },
  {
   "cell_type": "code",
   "execution_count": 2,
   "id": "efffbb09",
   "metadata": {},
   "outputs": [],
   "source": [
    "# assits ids of images and region of interest\n",
    "PS_id = 'users/luoyee1997/example/Tallahatchie_Planet'\n",
    "LS_id = 'users/luoyee1997/example/Tallahatchie_Landsat2'\n",
    "roi_id = 'projects/ee-alpha-luoyee1997/assets/LT'"
   ]
  },
  {
   "cell_type": "code",
   "execution_count": 3,
   "id": "9b6092d3",
   "metadata": {},
   "outputs": [],
   "source": [
    "# band names of PlanetScope\n",
    "bands_in_PS = ['b1', 'b2', 'b3', 'b4']\n",
    "# required names\n",
    "bandnames_PS = ['Blue', 'Green', 'Red', 'NIR']\n",
    "# band names of Landsat\n",
    "bands_in_LS = ['SR_B4', 'SR_B3', 'SR_B2', 'SR_B5', 'SR_B6']\n",
    "# required names\n",
    "bandnames_LS = ['Red', 'Green', 'Blue', 'NIR', 'SWIR1']\n",
    "roi = load_file(roi_id)\n",
    "imgLS = load_file(LS_id, bands_in_LS, bandnames_LS).clip(roi)\n",
    "imgPS = load_file(PS_id, bands_in_PS, bandnames_PS).clip(roi)"
   ]
  },
  {
   "cell_type": "markdown",
   "id": "d2088587",
   "metadata": {},
   "source": [
    "# Obtain river mask from Landsat image\n",
    "Comparing with PlanetScope, Landsat has lower resolution, which means lower computation. We use the Landsat image and the river mask obtained from it to filter out most unwanted water surfaces from the region of interest. In this section, we are going to\n",
    "1. Identify water surfaces.\n",
    "2. Identify the river from water surfaces.\n",
    "3. Create a mask for the PlanetScope image to locate the river."
   ]
  },
  {
   "cell_type": "markdown",
   "id": "42e8c2df",
   "metadata": {},
   "source": [
    "## Classification\n",
    "**thrs** of the classification function are the thresholds to classify water, bare soil and vegetation from the NDVI grey image, where values less than thr2 are considered as water. The value between thr3 and thr4 are considered as bare soil, and the value larger than thr5 are considered as vegetation. One thing should be noticed is that we are not going to use these threshold to classify the image. Instead, this classification are going to be used to select training set for the classifer. Thus, these thresholds are not accurite values. The threshold can be modified if the classifer does not perform well, but the default values are robust basing on our tests.\n",
    "\n",
    "**numPts** is the parameter to decide the number of points which are going to be selected as the training set."
   ]
  },
  {
   "cell_type": "code",
   "execution_count": 4,
   "id": "8d4b7e84",
   "metadata": {},
   "outputs": [],
   "source": [
    "# landsat classification\n",
    "classLS = classification(imgLS, thr2=0, thr3=0.2, thr4=0.3, thr5=0.6, numPts=100)"
   ]
  },
  {
   "cell_type": "markdown",
   "id": "f2ac9f50",
   "metadata": {},
   "source": [
    "## River mask\n",
    "The river is identified and the mask is dilated for PlanetScope."
   ]
  },
  {
   "cell_type": "code",
   "execution_count": 5,
   "id": "b8c913e8",
   "metadata": {},
   "outputs": [],
   "source": [
    "waterLS = classLS.eq(1).clip(roi)\n",
    "\n",
    "# connect the water masks divided by small gaps. The radius is the half scale of the gap to be filled.\n",
    "waterLS1 = close(waterLS, radius=1.5, kernelType='square')\n",
    "\n",
    "# identify the river from other water masks. The second input is the minimum area that is considered as the river.\n",
    "# The second input is the connectivity of pixels. 4 means 4-connectivity and 8 means 8-connectivity.\n",
    "riverLS = noise_removal(waterLS1, 500, 8)\n",
    "\n",
    "# Dilate the river mask\n",
    "riverMask = mask_hrs(riverLS, r=1.5, i=3)"
   ]
  },
  {
   "cell_type": "markdown",
   "id": "15221598",
   "metadata": {},
   "source": [
    "# Obtain river mask from the PlanetScope image\n",
    "This section demonstrates how to mask the clasified PlanetScope image and obtain a simply connected river mask."
   ]
  },
  {
   "cell_type": "code",
   "execution_count": 6,
   "id": "e43a84f8",
   "metadata": {},
   "outputs": [],
   "source": [
    "# planet classification\n",
    "classPS = classification(imgPS, thr2=0, thr3=0.2, thr4=0.3, thr5=0.6, numPts=100)"
   ]
  },
  {
   "cell_type": "code",
   "execution_count": 7,
   "id": "dbf4b1a7",
   "metadata": {},
   "outputs": [],
   "source": [
    "# Obtain the river mask\n",
    "waterPS = classPS.eq(1).updateMask(riverMask)\n",
    "waterPS2 = close(waterPS, radius=3)\n",
    "riverPS = noise_removal(waterPS2, 1000, 4)\n",
    "\n",
    "# fill holes of river masks\n",
    "notRiver = riverPS.unmask().Not()\n",
    "riverPS1 = noise_removal(notRiver, 50, 4)\n",
    "riverPS2 = riverPS1.unmask().Not()"
   ]
  },
  {
   "cell_type": "markdown",
   "id": "e8d28c17",
   "metadata": {},
   "source": [
    "# Centerline extraction"
   ]
  },
  {
   "cell_type": "markdown",
   "id": "e3ed7051",
   "metadata": {},
   "source": [
    "## Medial Axis Transfrom (MAT)\n",
    "1. The distance from the river pixels to the nearest non-river pixel is measured.\n",
    "2. Compute the gradient of distance.\n",
    "3. Thresholding out the centerline. Pixels with a value less than the given value is considered as centerline."
   ]
  },
  {
   "cell_type": "code",
   "execution_count": 8,
   "id": "ca4218dc",
   "metadata": {},
   "outputs": [],
   "source": [
    "# calculate centerline, thre is the threshold to decide wether a value will be considered as centerline.\n",
    "cl = CalculateCenterline1(riverPS2.unmask(), thre=0.9)"
   ]
  },
  {
   "cell_type": "markdown",
   "id": "983ac566",
   "metadata": {},
   "source": [
    "## Remove noises caused by MAT and trim unwanted branches"
   ]
  },
  {
   "cell_type": "code",
   "execution_count": 9,
   "id": "87bce27c",
   "metadata": {},
   "outputs": [],
   "source": [
    "# trim unwanted branches, the second input is the longest distance that a line will be considered as branches.\n",
    "# The third input is the number of iteration to do the trimming algrithm.\n",
    "trimed = trim_centerline(cl, 300, 5).selfMask()"
   ]
  },
  {
   "cell_type": "markdown",
   "id": "6981179b",
   "metadata": {},
   "source": [
    "# Out put\n",
    "The result is going to be output as an asset in Google Earth Engine. This process may take a long time. Please check the process of the test at the Code Editor of Google Earthe Engine."
   ]
  },
  {
   "cell_type": "code",
   "execution_count": 10,
   "id": "2fdb0352",
   "metadata": {},
   "outputs": [],
   "source": [
    "# the location to output the centerline. PLEASE use our own space!\n",
    "out_loc = 'users/luoyee1997/example/trimed'\n",
    "task = ee.batch.Export.image.toAsset(**{\n",
    "    'image': trimed,\n",
    "    'description': 'river_centerline',\n",
    "    'assetId': out_loc,\n",
    "    'scale': 3,\n",
    "    'maxPixels': 6e8,\n",
    "  'region': roi\n",
    "})\n",
    "task.start()"
   ]
  },
  {
   "cell_type": "markdown",
   "id": "f0cff389",
   "metadata": {},
   "source": [
    "# Visualize the image\n",
    "Visualizing image can help you to check whether the parameters you selected is suitable."
   ]
  },
  {
   "cell_type": "code",
   "execution_count": 11,
   "id": "9e80719d",
   "metadata": {},
   "outputs": [],
   "source": [
    "Map = geemap.Map()\n",
    "vis = {\n",
    "    'bands': ['Red', 'Green', 'Blue'],\n",
    "    'min': 0,\n",
    "    'max': 0.7042,\n",
    "    'gamma': 2\n",
    "}\n",
    "Map.centerObject(imgLS, 12)\n",
    "Map.addLayer(imgLS, vis, 'LS')"
   ]
  },
  {
   "cell_type": "code",
   "execution_count": 12,
   "id": "05d342b9",
   "metadata": {},
   "outputs": [],
   "source": [
    "# classified Landsat iamge\n",
    "Map.addLayer(classLS, {'min':1, 'max':3, 'palette': ['#0080FF', 'red', 'green']}, 'classLS')\n",
    "# the river mask obtained from Landsat\n",
    "Map.addLayer(riverMask, {}, 'mask')\n",
    "# classified PlanetScope image\n",
    "Map.addLayer(classPS, {'min':1, 'max':3, 'palette': ['#0080FF', 'red', 'green']}, 'classPS')\n",
    "# river mask to compute the centerline.\n",
    "Map.addLayer(riverPS, {}, 'riverPS')"
   ]
  },
  {
   "cell_type": "code",
   "execution_count": 13,
   "id": "8710472e",
   "metadata": {},
   "outputs": [],
   "source": [
    "# upload the computed centerline and visualize it\n",
    "trimed = ee.Image(out_loc)\n",
    "Map.addLayer(trimed.selfMask(), {}, 'cl')"
   ]
  },
  {
   "cell_type": "code",
   "execution_count": 14,
   "id": "9979840e",
   "metadata": {},
   "outputs": [
    {
     "data": {
      "application/vnd.jupyter.widget-view+json": {
       "model_id": "951b899b0e8843d1b7179095b54e90aa",
       "version_major": 2,
       "version_minor": 0
      },
      "text/plain": [
       "Map(center=[33.519505219659685, -90.29477822219337], controls=(WidgetControl(options=['position', 'transparent…"
      ]
     },
     "metadata": {},
     "output_type": "display_data"
    }
   ],
   "source": [
    "Map"
   ]
  },
  {
   "cell_type": "code",
   "execution_count": null,
   "id": "8cf471a2",
   "metadata": {},
   "outputs": [],
   "source": []
  }
 ],
 "metadata": {
  "kernelspec": {
   "display_name": "Python 3",
   "language": "python",
   "name": "python3"
  },
  "language_info": {
   "codemirror_mode": {
    "name": "ipython",
    "version": 3
   },
   "file_extension": ".py",
   "mimetype": "text/x-python",
   "name": "python",
   "nbconvert_exporter": "python",
   "pygments_lexer": "ipython3",
   "version": "3.8.8"
  }
 },
 "nbformat": 4,
 "nbformat_minor": 5
}
