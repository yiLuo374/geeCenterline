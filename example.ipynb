{
 "cells": [
  {
   "cell_type": "code",
   "execution_count": 1,
   "id": "affb366d",
   "metadata": {},
   "outputs": [],
   "source": [
    "import ee\n",
    "import geemap\n",
    "from classification import *\n",
    "from get_files import *\n",
    "from riverMask import *"
   ]
  },
  {
   "cell_type": "code",
   "execution_count": 2,
   "id": "faaaca25",
   "metadata": {},
   "outputs": [],
   "source": [
    "ee.Initialize()"
   ]
  },
  {
   "cell_type": "code",
   "execution_count": 50,
   "id": "efffbb09",
   "metadata": {},
   "outputs": [],
   "source": [
    "# user inputs\n",
    "PS_id = 'users/luoyee1997/example/Tallahatchie_Planet'\n",
    "LS_id = 'users/luoyee1997/example/Tallahatchie_Landsat'\n",
    "roi_id = 'projects/ee-alpha-luoyee1997/assets/LT'"
   ]
  },
  {
   "cell_type": "code",
   "execution_count": 51,
   "id": "9b6092d3",
   "metadata": {},
   "outputs": [],
   "source": [
    "bands_in_PS = ['b1', 'b2', 'b3', 'b4']\n",
    "bandnames_PS = ['Blue', 'Green', 'Red', 'NIR']\n",
    "bands_in_LS = ['SR_B4', 'SR_B3', 'SR_B2', 'SR_B5', 'SR_B6']\n",
    "bandnames_LS = ['Red', 'Green', 'Blue', 'NIR', 'SWIR1']\n",
    "roi = load_file(roi_id)\n",
    "imgLS = load_file(LS_id, bands_in_LS, bandnames_LS)#.clip(roi)\n",
    "imgPS = load_file(PS_id, bands_in_PS, bandnames_PS)#.clip(roi)"
   ]
  },
  {
   "cell_type": "code",
   "execution_count": null,
   "id": "66383159",
   "metadata": {},
   "outputs": [],
   "source": []
  },
  {
   "cell_type": "code",
   "execution_count": 40,
   "id": "05938713",
   "metadata": {},
   "outputs": [],
   "source": [
    "task = ee.batch.Export.table.toAsset(**{\n",
    "    'collection': ee.FeatureCollection(roi),\n",
    "    'description': 'Tallahatchie River',\n",
    "    'assetId': 'users/luoyee1997/example/Tallahatchie_roi'\n",
    "})\n",
    "task.start()"
   ]
  },
  {
   "cell_type": "code",
   "execution_count": 41,
   "id": "8d4b7e84",
   "metadata": {},
   "outputs": [],
   "source": [
    "classLS = classification(imgLS, thr1=-1, thr2=0, thr3=0.2, thr4=0.3, thr5=0.6, thr6=1, numPts=1000)"
   ]
  },
  {
   "cell_type": "code",
   "execution_count": 42,
   "id": "b8c913e8",
   "metadata": {},
   "outputs": [],
   "source": [
    "waterLS = classLS.eq(1)\n",
    "#(image, radius=1.5, kernelType='circle', units='pixels', iterations=1, kernel=None)\n",
    "waterLS1 = close(waterLS, radius=1.5, kernelType='square')\n",
    "riverLS = noise_removal(waterLS1, 100, 4)"
   ]
  },
  {
   "cell_type": "code",
   "execution_count": 48,
   "id": "9e80719d",
   "metadata": {},
   "outputs": [],
   "source": [
    "Map = geemap.Map()\n",
    "vis = {\n",
    "    'bands': ['Red', 'Green', 'Blue'],\n",
    "    'min': 0,\n",
    "    'max': 0.7042,\n",
    "    'gamma': 2\n",
    "}\n",
    "Map.centerObject(imgLS, 12)\n",
    "Map.addLayer(imgLS.clip(roi), vis, 'LS')"
   ]
  },
  {
   "cell_type": "code",
   "execution_count": 47,
   "id": "05d342b9",
   "metadata": {},
   "outputs": [],
   "source": [
    "Map.addLayer(classLS.clip(roi), {'min':1, 'max':3, 'palette': ['#0080FF', 'red', 'green']}, 'classLS')"
   ]
  },
  {
   "cell_type": "code",
   "execution_count": 45,
   "id": "821d8fca",
   "metadata": {},
   "outputs": [],
   "source": [
    "Map.addLayer(waterLS1.clip(roi), {}, 'river')"
   ]
  },
  {
   "cell_type": "code",
   "execution_count": 49,
   "id": "9979840e",
   "metadata": {},
   "outputs": [
    {
     "data": {
      "application/vnd.jupyter.widget-view+json": {
       "model_id": "ec6c4c73b5c647b4989ff25154d0fe3f",
       "version_major": 2,
       "version_minor": 0
      },
      "text/plain": [
       "Map(center=[33.19379318436067, -90.67387865144208], controls=(WidgetControl(options=['position', 'transparent_…"
      ]
     },
     "metadata": {},
     "output_type": "display_data"
    }
   ],
   "source": [
    "Map"
   ]
  },
  {
   "cell_type": "code",
   "execution_count": null,
   "id": "8cf471a2",
   "metadata": {},
   "outputs": [],
   "source": []
  }
 ],
 "metadata": {
  "kernelspec": {
   "display_name": "Python 3",
   "language": "python",
   "name": "python3"
  },
  "language_info": {
   "codemirror_mode": {
    "name": "ipython",
    "version": 3
   },
   "file_extension": ".py",
   "mimetype": "text/x-python",
   "name": "python",
   "nbconvert_exporter": "python",
   "pygments_lexer": "ipython3",
   "version": "3.8.15"
  }
 },
 "nbformat": 4,
 "nbformat_minor": 5
}
