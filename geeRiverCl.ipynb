{
 "cells": [
  {
   "cell_type": "code",
   "execution_count": 1,
   "id": "8358e1aa",
   "metadata": {},
   "outputs": [],
   "source": [
    "import geemap\n",
    "import ee\n",
    "import numpy as np\n",
    "import folium\n",
    "import os\n",
    "import pprint\n",
    "import time\n",
    "geemap.ee_initialize()"
   ]
  },
  {
   "cell_type": "code",
   "execution_count": 2,
   "id": "15e2f7e7",
   "metadata": {},
   "outputs": [],
   "source": [
    "maxReducer = ee.Reducer.max()\n",
    "minReducer = ee.Reducer.min()"
   ]
  },
  {
   "cell_type": "code",
   "execution_count": 3,
   "id": "3d39768e",
   "metadata": {},
   "outputs": [],
   "source": [
    "# def add_ee_layer\n",
    "def add_ee_layer(self, ee_image_object, vis_params, name):\n",
    "  map_id_dict = ee.Image(ee_image_object).getMapId(vis_params)\n",
    "  folium.raster_layers.TileLayer(\n",
    "      tiles=map_id_dict['tile_fetcher'].url_format,\n",
    "      attr='Map Data &copy; <a href=\"https://earthengine.google.com/\">Google Earth Engine</a>',\n",
    "      name=name,\n",
    "      overlay=True,\n",
    "      control=True\n",
    "  ).add_to(self)\n",
    "\n",
    "folium.Map.add_ee_layer = add_ee_layer"
   ]
  },
  {
   "cell_type": "code",
   "execution_count": 4,
   "id": "f5dc44bb",
   "metadata": {},
   "outputs": [],
   "source": [
    "#load data\n",
    "def load_data(geeID, data_type, *bandNames): \n",
    "    #image: data_type=0; ImageCollection: data_type=1; FeatureCollection: data_type\n",
    "    #bandNames: rename bands for Image or ImageCollection; i.e. ['Red', 'Green', 'Blue', 'NIR'] for Planet Scope\n",
    "    if data_type == 0:\n",
    "        image = ee.Image(geeID)\n",
    "        if bandNames != None:\n",
    "            image = image.rename(bandNames)\n",
    "        return image\n",
    "    elif data_type == 1:\n",
    "        imageCollection = ee.ImageCollection(geeID)\n",
    "        return imageCollection\n",
    "    elif data_tpye == 2:\n",
    "        geometry = ee.FeatureCollection(geeID).geometry()\n",
    "        return geometry"
   ]
  },
  {
   "cell_type": "code",
   "execution_count": 5,
   "id": "a258507d",
   "metadata": {},
   "outputs": [],
   "source": [
    "def show_image_geemap(image, gamma=1):\n",
    "    Map = geemap.Map()\n",
    "    Map.centerObject(image)\n",
    "    maxValue = image.reduceRegion(maxReducer, bestEffort=True).getInfo()['Blue']\n",
    "    minValue = image.reduceRegion(minReducer, bestEffort=True).getInfo()['Red']\n",
    "    img_viz_params = {\n",
    "        'bands': ['Blue', 'Green', 'Red'],\n",
    "        'min': minValue,\n",
    "        'max': maxValue,\n",
    "        'gamma': gamma\n",
    "    }\n",
    "    Map.addLayer(image, img_viz_params, 'image')\n",
    "    return(Map)"
   ]
  },
  {
   "cell_type": "code",
   "execution_count": 6,
   "id": "5d78ece4",
   "metadata": {},
   "outputs": [],
   "source": [
    "def geo_to_featureCollection(*args, labelName='class'):\n",
    "    # args: geometries\n",
    "    l = []\n",
    "    n = len(args)\n",
    "    for i in args:\n",
    "        l.append(ee.Feature(i, {labelName: (n-1)}))\n",
    "    fC = ee.FeatureCollection(l)\n",
    "    return fC"
   ]
  },
  {
   "cell_type": "code",
   "execution_count": 7,
   "id": "2a7c4e4e",
   "metadata": {},
   "outputs": [],
   "source": [
    "#Classification\n",
    "def classification(image, scale, **kwargs):\n",
    "    # *kwargs\n",
    "    # Null\n",
    "    if \"simples\" in kwargs:\n",
    "        #NaiveBayes\n",
    "        #Three land type simple regions: water, plant, sand (other)\n",
    "        bands = image.bandNames()\n",
    "        classif = kwargs.pop(\"simples\")\n",
    "        labels = classif.first().propertyNames().getInfo()[1]\n",
    "        training = image.select(bands).sampleRegions(**{\n",
    "            'collection': classif,\n",
    "            'properties': [labels],\n",
    "            'scale' : scale\n",
    "        })\n",
    "        trained = ee.Classifier.smileNaiveBayes().train(training, labels, bands)\n",
    "        classified = image.select(bands).classify(trained)\n",
    "        water_mask = classified.eq(0)\n",
    "        sand_mask = classified.eq(2)\n",
    "        return(water_mask, sand_mask)\n",
    "    elif \"ndvi\" in kwargs:\n",
    "        #NDVI and NDWI\n",
    "        ndvip = kwargs['ndvi']\n",
    "        #ndwip = kwargs['ndwi']\n",
    "        ndvi = image.normalizedDifference(['NIR', 'Red']) #NIR, Red\n",
    "        #ndwi = image.normalizedDifference(['Green', 'NIR']) #Green, NIR\n",
    "        ndvi1 = ndvi.lt(ndvip).eq(1)\n",
    "        #ndwi1 = ndwi.gt(ndwip)\n",
    "        #water_mask = ndwi1.And(ndvi1).eq(1)\n",
    "        return(ndvi1)"
   ]
  },
  {
   "cell_type": "code",
   "execution_count": 8,
   "id": "21b97eee",
   "metadata": {},
   "outputs": [],
   "source": [
    "def noise_removal(mask0, scale, bandName = None):\n",
    "    #remove other water bodies and noises from the water mask\n",
    "    #if the bandName of the mask is not given, the first band will be considered the mask\n",
    "    crs = mask0.projection().crs().getInfo()\n",
    "    if bandName == None:\n",
    "        bandName = mask0.bandNames().getInfo()[0]\n",
    "    mask = mask0.focal_min(1, kernelType='square')\\\n",
    "        .reproject(crs = crs, scale = scale)\n",
    "    mask1 = mask.addBands(mask.eq(0))\\\n",
    "        .reduceConnectedComponents(ee.Reducer.median(), bandName, 1024)\\\n",
    "        .eq(0).unmask()\\\n",
    "        .reproject(crs = crs, scale = scale)\n",
    "    mask2 = mask1.add(mask).eq(1)\n",
    "    mask3 = mask2.focal_max(1, kernelType='square')\\\n",
    "        .reproject(crs = crs, scale = scale)\n",
    "    return mask3"
   ]
  },
  {
   "cell_type": "code",
   "execution_count": 9,
   "id": "089a98ae",
   "metadata": {},
   "outputs": [],
   "source": [
    "def large_centerbar_removal(mask0, scale, area, bandName = None):\n",
    "    mask0 = mask0.Not()\n",
    "    crs = mask0.projection().crs().getInfo()\n",
    "    if bandName == None:\n",
    "        bandName = mask0.bandNames().getInfo()[0]\n",
    "    mask = mask0.focal_min(1, kernelType='square')\\\n",
    "        .reproject(crs = crs, scale = scale)\n",
    "    mask1 = mask.addBands(mask.eq(0))\\\n",
    "        .reduceConnectedComponents(ee.Reducer.median(), bandName, area)\\\n",
    "        .eq(0).unmask()\\\n",
    "        .reproject(crs = crs, scale = scale)\n",
    "    mask2 = mask1.focal_max(1, kernelType='square')\\\n",
    "        .reproject(crs = crs, scale = scale)\n",
    "    return mask2"
   ]
  },
  {
   "cell_type": "code",
   "execution_count": 10,
   "id": "c4faf6b8",
   "metadata": {},
   "outputs": [],
   "source": [
    "def small_centerbar_removal(mask0, scale, area=100, bandName = None):\n",
    "    mask = mask0.Not()\n",
    "    crs = mask.projection().crs().getInfo()\n",
    "    mask1 = mask.connectedPixelCount(area, False).reproject(crs = crs, scale = scale)\n",
    "    mask2 = mask1.lt(area).selfMask().unmask()\n",
    "    mask3 = mask0.Or(mask2)\n",
    "    return mask3"
   ]
  },
  {
   "cell_type": "code",
   "execution_count": 11,
   "id": "ff3c969b",
   "metadata": {},
   "outputs": [],
   "source": [
    "def close(image):\n",
    "    image = image.focal_max().focal_min()\n",
    "    return image"
   ]
  },
  {
   "cell_type": "code",
   "execution_count": 12,
   "id": "7e9a2a4c",
   "metadata": {},
   "outputs": [],
   "source": [
    "def hitOrMiss(image, se1, se2):\n",
    "    \"\"\"perform hitOrMiss transform (adapted from [citation])\n",
    "    \"\"\"\n",
    "    e1 = image.reduceNeighborhood(ee.Reducer.min(), se1)\n",
    "    e2 = image.Not().reduceNeighborhood(ee.Reducer.min(), se2)\n",
    "    return e1.And(e2)"
   ]
  },
  {
   "cell_type": "code",
   "execution_count": 13,
   "id": "7a9aec20",
   "metadata": {},
   "outputs": [],
   "source": [
    "def splitKernel(kernel, value):\n",
    "    \"\"\"recalculate the kernel according to the given foreground value\n",
    "    \"\"\"\n",
    "    kernel = np.array(kernel)\n",
    "    result = kernel\n",
    "    r = 0\n",
    "    while (r < kernel.shape[0]):\n",
    "        c = 0\n",
    "        while (c < kernel.shape[1]):\n",
    "            if kernel[r][c] == value:\n",
    "                result[r][c] = 1\n",
    "            else:\n",
    "                result[r][c] = 0\n",
    "            c = c + 1\n",
    "        r = r + 1\n",
    "    return result.tolist()"
   ]
  },
  {
   "cell_type": "code",
   "execution_count": 14,
   "id": "de6838d1",
   "metadata": {},
   "outputs": [],
   "source": [
    "def Skeletonize(image, iterations, method):\n",
    "    \"\"\"perform skeletonization\n",
    "    \"\"\"\n",
    "\n",
    "    se1w = [[2, 2, 2], [0, 1, 0], [1, 1, 1]]\n",
    "\n",
    "    if (method == 2):\n",
    "        se1w = [[2, 2, 2], [0, 1, 0], [0, 1, 0]]\n",
    "\n",
    "    se11 = ee.Kernel.fixed(3, 3, splitKernel(se1w, 1))\n",
    "    se12 = ee.Kernel.fixed(3, 3, splitKernel(se1w, 2))\n",
    "\n",
    "    se2w = [[2, 2, 0], [2, 1, 1], [0, 1, 0]]\n",
    "\n",
    "    if (method == 2):\n",
    "        se2w = [[2, 2, 0], [2, 1, 1], [0, 1, 1]]\n",
    "\n",
    "    se21 = ee.Kernel.fixed(3, 3, splitKernel(se2w, 1))\n",
    "    se22 = ee.Kernel.fixed(3, 3, splitKernel(se2w, 2))\n",
    "\n",
    "    result = image\n",
    "\n",
    "    i = 0\n",
    "    while (i < iterations):\n",
    "        j = 0\n",
    "        while (j < 4):\n",
    "              result = result.subtract(hitOrMiss(result, se11, se12))\n",
    "              se11 = se11.rotate(1)\n",
    "              se12 = se12.rotate(1)\n",
    "              result = result.subtract(hitOrMiss(result, se21, se22))\n",
    "              se21 = se21.rotate(1)\n",
    "              se22 = se22.rotate(1)\n",
    "              j = j + 1\n",
    "        i = i + 1\n",
    "\n",
    "    return result.rename(['clRaw'])"
   ]
  },
  {
   "cell_type": "code",
   "execution_count": 15,
   "id": "3f806b5a",
   "metadata": {},
   "outputs": [],
   "source": [
    "def CalcDistanceMap(img, neighborhoodSize, scale):\n",
    "    # // assign each river pixel with the distance (in meter) between itself and the closest non-river pixel\n",
    "    imgD2 = img.focal_max(1.5, 'circle', 'pixels', 2)\n",
    "    imgD1 = img.focal_max(1.5, 'circle', 'pixels', 1)\n",
    "    outline = imgD2.subtract(imgD1)\n",
    "\n",
    "    dpixel = outline.fastDistanceTransform(neighborhoodSize).sqrt()\n",
    "    dmeters = dpixel.multiply(scale) #// for a given scale\n",
    "    DM = dmeters.mask(dpixel.lte(neighborhoodSize).And(imgD2))\n",
    "\n",
    "    return(DM)"
   ]
  },
  {
   "cell_type": "code",
   "execution_count": 16,
   "id": "74958f5b",
   "metadata": {},
   "outputs": [],
   "source": [
    "def CalcGradientMap(image, gradMethod, scale):\n",
    "    ## Calculate the gradient\n",
    "    if (gradMethod == 1): # GEE .gradient() method\n",
    "        grad = image.gradient()\n",
    "        dx = grad.select(['x'])\n",
    "        dy = grad.select(['y'])\n",
    "        g = dx.multiply(dx).add(dy.multiply(dy)).sqrt()\n",
    "\n",
    "    if (gradMethod == 2): # Gena's method\n",
    "        k_dx = ee.Kernel.fixed(3, 3, [[ 1.0/8, 0.0, -1.0/8], [ 2.0/8, 0.0, -2.0/8], [ 1.0/8,  0.0, -1.0/8]])\n",
    "        k_dy = ee.Kernel.fixed(3, 3, [[ -1.0/8, -2.0/8, -1.0/8], [ 0.0, 0.0, 0.0], [ 1.0/8, 2.0/8, 1.0/8]])\n",
    "        dx = image.convolve(k_dx)\n",
    "        dy = image.convolve(k_dy)\n",
    "        g = dx.multiply(dx).add(dy.multiply(dy)).divide(scale**2).sqrt()\n",
    "\n",
    "    if (gradMethod == 3): # RivWidth method\n",
    "        k_dx = ee.Kernel.fixed(3, 1, [[-0.5, 0.0, 0.5]])\n",
    "        k_dy = ee.Kernel.fixed(1, 3, [[0.5], [0.0], [-0.5]])\n",
    "        dx = image.convolve(k_dx)\n",
    "        dy = image.convolve(k_dy)\n",
    "        g = dx.multiply(dx).add(dy.multiply(dy)).divide(scale.multiply(scale))\n",
    "\n",
    "    return(g)"
   ]
  },
  {
   "cell_type": "code",
   "execution_count": 17,
   "id": "fbbebe10",
   "metadata": {},
   "outputs": [],
   "source": [
    "def CalcOnePixelWidthCenterline(img, GM, hGrad):\n",
    "    # /***\n",
    "    # calculate the 1px centerline from:\n",
    "    # 1. fast distance transform of the river banks\n",
    "    # 2. gradient of the distance transform, mask areas where gradient greater than a threshold hGrad\n",
    "    # 3. apply skeletonization twice to get a 1px centerline\n",
    "    # thresholding gradient map inspired by Pavelsky and Smith., 2008\n",
    "    # ***/\n",
    "\n",
    "    imgD2 = img.focal_max(1.5, 'circle', 'pixels', 2)\n",
    "    cl = ee.Image(GM).mask(imgD2).lte(hGrad).And(img)\n",
    "    # // apply skeletonization twice\n",
    "    cl1px = Skeletonize(cl, 2, 1)\n",
    "    return(cl1px)"
   ]
  },
  {
   "cell_type": "code",
   "execution_count": 18,
   "id": "6ec7c6e3",
   "metadata": {},
   "outputs": [],
   "source": [
    "def ExtractEndpoints(CL1px):\n",
    "    \"\"\"calculate end points in the one pixel centerline\n",
    "    \"\"\"\n",
    "\n",
    "    se1w = [[0, 0, 0], [2, 1, 2], [2, 2, 2]]\n",
    "\n",
    "    se11 = ee.Kernel.fixed(3, 3, splitKernel(se1w, 1))\n",
    "    se12 = ee.Kernel.fixed(3, 3, splitKernel(se1w, 2))\n",
    "\n",
    "    result = CL1px\n",
    "\n",
    "    # // the for loop removes the identified endpoints from the imput image\n",
    "    i = 0\n",
    "    while (i<4): # rotate kernels\n",
    "        result = result.subtract(hitOrMiss(CL1px, se11, se12))\n",
    "        se11 = se11.rotate(1)\n",
    "        se12 = se12.rotate(1)\n",
    "        i = i + 1\n",
    "    endpoints = CL1px.subtract(result)\n",
    "    return endpoints"
   ]
  },
  {
   "cell_type": "code",
   "execution_count": 19,
   "id": "f5ad1dbf",
   "metadata": {},
   "outputs": [],
   "source": [
    "def ExtractCorners(CL1px):\n",
    "    \"\"\"calculate corners in the one pixel centerline\n",
    "    \"\"\"\n",
    "\n",
    "    se1w = [[2, 2, 0], [2, 1, 1], [0, 1, 0]]\n",
    "\n",
    "    se11 = ee.Kernel.fixed(3, 3, splitKernel(se1w, 1))\n",
    "    se12 = ee.Kernel.fixed(3, 3, splitKernel(se1w, 2))\n",
    "\n",
    "    result = CL1px\n",
    "    # // the for loop removes the identified corners from the imput image\n",
    "\n",
    "    i = 0\n",
    "    while(i < 4): # rotate kernels\n",
    "\n",
    "        result = result.subtract(hitOrMiss(result, se11, se12))\n",
    "\n",
    "        se11 = se11.rotate(1)\n",
    "        se12 = se12.rotate(1)\n",
    "\n",
    "        i = i + 1\n",
    "\n",
    "    cornerPoints = CL1px.subtract(result)\n",
    "    return cornerPoints"
   ]
  },
  {
   "cell_type": "code",
   "execution_count": 20,
   "id": "67b24fbf",
   "metadata": {},
   "outputs": [],
   "source": [
    "def CleanCenterline(cl1px, maxBranchLengthToRemove, rmCorners):\n",
    "    \"\"\"clean the 1px centerline:\n",
    "\t1. remove branches\n",
    "\t2. remove corners to insure 1px width (optional)\n",
    "    \"\"\"\n",
    "\n",
    "    ## find the number of connecting pixels (8-connectivity)\n",
    "    nearbyPoints = (cl1px.mask(cl1px).reduceNeighborhood(\n",
    "        reducer = ee.Reducer.count(),\n",
    "        kernel = ee.Kernel.circle(1.5), #1.5\n",
    "        skipMasked = True))\n",
    "\n",
    "\t## define ends\n",
    "    endsByNeighbors = nearbyPoints.lte(2)\n",
    "\n",
    "\t## define joint points\n",
    "    joints = nearbyPoints.gte(4)\n",
    "\n",
    "    costMap = (cl1px.mask(cl1px).updateMask(joints.Not()).cumulativeCost(\n",
    "        source = endsByNeighbors.mask(endsByNeighbors),\n",
    "        maxDistance = maxBranchLengthToRemove,\n",
    "        geodeticDistance = True))\n",
    "\n",
    "    branchMask = costMap.gte(0).unmask(0)\n",
    "    cl1Cleaned = cl1px.updateMask(branchMask.Not()) # mask short branches;\n",
    "    ends = ExtractEndpoints(cl1Cleaned)\n",
    "    cl1Cleaned = cl1Cleaned.updateMask(ends.Not())\n",
    "    cl1Cleaned = close(cl1Cleaned)\n",
    "\n",
    "    if (rmCorners):\n",
    "        corners = ExtractCorners(cl1Cleaned)\n",
    "        cl1Cleaned = cl1Cleaned.updateMask(corners.Not())\n",
    "\n",
    "    return (cl1Cleaned)"
   ]
  },
  {
   "cell_type": "code",
   "execution_count": 21,
   "id": "bd939af2",
   "metadata": {},
   "outputs": [],
   "source": [
    "def CalculateCenterline(imgIn, scale):\n",
    "\n",
    "    crs = imgIn.projection().crs().getInfo()\n",
    "\n",
    "    distM = CalcDistanceMap(imgIn, 256, scale).reproject(crs = crs, scale = scale)\n",
    "    gradM = CalcGradientMap(distM, 2, scale).reproject(crs = crs, scale = scale)\n",
    "    cl1 = CalcOnePixelWidthCenterline(imgIn, gradM, 0.9).reproject(crs = crs, scale = scale)\n",
    "    cl1Cleaned1 = CleanCenterline(cl1, 300, True).reproject(crs = crs, scale = scale)\n",
    "    cl1px = CleanCenterline(cl1Cleaned1, 300, False).reproject(crs = crs, scale = scale)\n",
    "    return(cl1px)"
   ]
  },
  {
   "cell_type": "code",
   "execution_count": 26,
   "id": "77f90093",
   "metadata": {},
   "outputs": [],
   "source": [
    "imgC = load_data('projects/ee-alpha-luoyee1997/assets/lt_ps', 1)"
   ]
  },
  {
   "cell_type": "code",
   "execution_count": 28,
   "id": "4e00cb55",
   "metadata": {},
   "outputs": [],
   "source": [
    "from xml.dom import minidom"
   ]
  },
  {
   "cell_type": "code",
   "execution_count": 40,
   "id": "d20e3104",
   "metadata": {},
   "outputs": [],
   "source": [
    "def getTOA(path):\n",
    "    xmldoc = minidom.parse(path)\n",
    "    nodes = xmldoc.getElementsByTagName(\"ps:bandSpecificMetadata\")\n",
    "\n",
    "    # XML parser refers to bands by numbers 1-4\n",
    "    coeffs = {}\n",
    "    for node in nodes:\n",
    "        bn = node.getElementsByTagName(\"ps:bandNumber\")[0].firstChild.data\n",
    "        if bn in ['1', '2', '3', '4']:\n",
    "            i = int(bn)\n",
    "            value = node.getElementsByTagName(\"ps:reflectanceCoefficient\")[0].firstChild.data\n",
    "            coeffs[i] = float(value)\n",
    "    return coeffs"
   ]
  },
  {
   "cell_type": "code",
   "execution_count": 30,
   "id": "eb139757",
   "metadata": {},
   "outputs": [],
   "source": [
    "import glob"
   ]
  },
  {
   "cell_type": "code",
   "execution_count": 37,
   "id": "22a32b97",
   "metadata": {},
   "outputs": [],
   "source": [
    "xmlpath = glob.glob('/Users/luoyi/Box/private/MSDelta/planet scope/LT/*metadata_clip.xml')"
   ]
  },
  {
   "cell_type": "code",
   "execution_count": 45,
   "id": "0fb57324",
   "metadata": {
    "scrolled": false
   },
   "outputs": [
    {
     "data": {
      "text/plain": [
       "{1: 2.39272120581e-05,\n",
       " 2: 2.59509198827e-05,\n",
       " 3: 3.12355148955e-05,\n",
       " 4: 4.9437966273e-05}"
      ]
     },
     "execution_count": 45,
     "metadata": {},
     "output_type": "execute_result"
    }
   ],
   "source": [
    "getTOA(xmlpath[0])"
   ]
  },
  {
   "cell_type": "code",
   "execution_count": null,
   "id": "a0438491",
   "metadata": {},
   "outputs": [],
   "source": []
  }
 ],
 "metadata": {
  "kernelspec": {
   "display_name": "Python 3",
   "language": "python",
   "name": "python3"
  },
  "language_info": {
   "codemirror_mode": {
    "name": "ipython",
    "version": 3
   },
   "file_extension": ".py",
   "mimetype": "text/x-python",
   "name": "python",
   "nbconvert_exporter": "python",
   "pygments_lexer": "ipython3",
   "version": "3.8.8"
  },
  "toc": {
   "base_numbering": 1,
   "nav_menu": {},
   "number_sections": true,
   "sideBar": true,
   "skip_h1_title": false,
   "title_cell": "Table of Contents",
   "title_sidebar": "Contents",
   "toc_cell": false,
   "toc_position": {},
   "toc_section_display": true,
   "toc_window_display": false
  }
 },
 "nbformat": 4,
 "nbformat_minor": 5
}
