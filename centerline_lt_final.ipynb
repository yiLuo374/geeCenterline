{
 "cells": [
  {
   "cell_type": "code",
   "execution_count": 1,
   "id": "f27160db-a722-4da6-9382-051ab0e7f2cf",
   "metadata": {},
   "outputs": [],
   "source": [
    "import ee\n",
    "import geemap\n",
    "from geeRiverCL import *\n",
    "import numpy as np\n",
    "geemap.ee_initialize()"
   ]
  },
  {
   "cell_type": "code",
   "execution_count": 2,
   "id": "6b6caf2e",
   "metadata": {},
   "outputs": [],
   "source": [
    "import geemap.chart as chart"
   ]
  },
  {
   "cell_type": "code",
   "execution_count": 3,
   "id": "fd672f3c",
   "metadata": {},
   "outputs": [],
   "source": [
    "import matplotlib.pyplot as plt"
   ]
  },
  {
   "cell_type": "code",
   "execution_count": 4,
   "id": "3daf2198",
   "metadata": {},
   "outputs": [],
   "source": [
    "from otsu import *"
   ]
  },
  {
   "cell_type": "code",
   "execution_count": 5,
   "id": "5bf6d663-8b46-4742-b99c-e064a21cd63e",
   "metadata": {},
   "outputs": [],
   "source": [
    "# roi\n",
    "ltb = ee.FeatureCollection(\"projects/ee-alpha-luoyee1997/assets/LT\").geometry()\n",
    "# landsat\n",
    "bandnames = ['Red', 'Green', 'Blue', 'NIR', 'SWIR1']\n",
    "#imgLS = load_Landsat(\"projects/ee-alpha-luoyee1997/assets/LT\", '2021-10-01', '2022-09-01').multiply(0.0000275).add(-0.2)\n",
    "imgLS1 = ee.Image('LANDSAT/LC08/C02/T1_L2/LC08_023036_20220625').select(['SR_B4', 'SR_B3', 'SR_B2', 'SR_B5', 'SR_B6']).multiply(0.0000275).add(-0.2).rename(bandnames)\n",
    "imgLS2 = ee.Image('LANDSAT/LC08/C02/T1_L2/LC08_023037_20220625').select(['SR_B4', 'SR_B3', 'SR_B2', 'SR_B5', 'SR_B6']).multiply(0.0000275).add(-0.2).rename(bandnames)\n",
    "imgLS = ee.ImageCollection([imgLS1, imgLS2]).mosaic().clip(ltb)\n",
    "crsLS = imgLS.projection().crs().getInfo()\n",
    "sclLS = 30\n",
    "# planet\n",
    "imgPS = load_image('users/luoyee1997/geeRiver/LT/PlanetSR2', ['b1', 'b2', 'b3', 'b4'], ['Blue', 'Green', 'Red', 'NIR']).multiply(0.0001)\n",
    "crsPS = imgPS.projection().crs().getInfo()\n",
    "sclPS = 3"
   ]
  },
  {
   "cell_type": "code",
   "execution_count": 6,
   "id": "c7073d20",
   "metadata": {},
   "outputs": [],
   "source": [
    "proj = imgPS.projection().getInfo()"
   ]
  },
  {
   "cell_type": "code",
   "execution_count": 8,
   "id": "bebc72fd",
   "metadata": {},
   "outputs": [],
   "source": [
    "crs = imgPS.projection().crs().getInfo()\n",
    "SWIR11 = ee.Image('LANDSAT/LC08/C02/T1_L2/LC08_023036_20220625').select(['SR_B6']).multiply(0.0000275).add(-0.2).rename('SWIR1').resample()\n",
    "SWIR12 = ee.Image('LANDSAT/LC08/C02/T1_L2/LC08_023037_20220625').select(['SR_B6']).multiply(0.0000275).add(-0.2).rename('SWIR1').resample()\n",
    "SWIR1 = ee.ImageCollection([SWIR11, SWIR12]).mosaic().clip(ltb).reproject(crs=crs, crsTransform=proj['transform'])\n",
    "imgPS1 = imgPS.addBands(SWIR1)"
   ]
  },
  {
   "cell_type": "code",
   "execution_count": 30,
   "id": "49a01a99",
   "metadata": {},
   "outputs": [],
   "source": [
    "imgLS1_a = ee.Image('LANDSAT/LC08/C02/T1_L2/LC08_023036_20220625').select(['SR_B4', 'SR_B3', 'SR_B2', 'SR_B5', 'SR_B6']).rename(bandnames).resample()\n",
    "imgLS2_a = ee.Image('LANDSAT/LC08/C02/T1_L2/LC08_023037_20220625').select(['SR_B4', 'SR_B3', 'SR_B2', 'SR_B5', 'SR_B6']).rename(bandnames).resample()\n",
    "imgLS_a = ee.ImageCollection([imgLS1_a, imgLS2_a]).mosaic().reproject(crs=crs, crsTransform=proj['transform'])\n"
   ]
  },
  {
   "cell_type": "code",
   "execution_count": 10,
   "id": "2827c2a4-27ac-42fe-a3a9-ab2535409575",
   "metadata": {},
   "outputs": [],
   "source": [
    "classPS = classification(imgPS, 3, method='minDis')\n",
    "classPS1 = classification(imgPS1, 3, method='minDis')"
   ]
  },
  {
   "cell_type": "code",
   "execution_count": 11,
   "id": "b73cf138-35d2-4839-a9d7-263eef428c4a",
   "metadata": {},
   "outputs": [],
   "source": [
    "classLS_minDis = classification(imgLS, 30, method='minDis')\n",
    "#classLS1 = classification1(imgLS, 3, method='minDis')"
   ]
  },
  {
   "cell_type": "code",
   "execution_count": 42,
   "id": "90769ace",
   "metadata": {},
   "outputs": [],
   "source": [
    "classLS_minDis1 = classification(imgLS1.resample(), 3, method='minDis')\n",
    "classLS_minDis2 = classification(imgLS2.resample(), 3, method='minDis')\n",
    "classLS_minDis12 = ee.ImageCollection([classLS_minDis1, classLS_minDis2]).mosaic().clip(ltb)\n",
    "#classLS1 = classification1(imgLS, 3, method='minDis')"
   ]
  },
  {
   "cell_type": "code",
   "execution_count": 13,
   "id": "0eee6ac7",
   "metadata": {},
   "outputs": [],
   "source": [
    "classLS_Zou = classification(imgLS, 30, method='Zou')"
   ]
  },
  {
   "cell_type": "code",
   "execution_count": 14,
   "id": "3e1d369f",
   "metadata": {},
   "outputs": [],
   "source": [
    "mndwiLS = imgLS.normalizedDifference(['Green', 'SWIR1']).rename('mndwi')"
   ]
  },
  {
   "cell_type": "code",
   "execution_count": 15,
   "id": "7afac9cd",
   "metadata": {},
   "outputs": [],
   "source": [
    "ndviLS = imgLS.normalizedDifference(['Green', 'SWIR1']).rename('mndwi')\n",
    "ndviLS = imgLS.normalizedDifference(['NIR', 'Red']).rename('ndvi')"
   ]
  },
  {
   "cell_type": "code",
   "execution_count": 16,
   "id": "c1994360",
   "metadata": {
    "scrolled": true
   },
   "outputs": [],
   "source": [
    "thre_mndwi_LS = thr_otsu(mndwiLS, 'mndwi', sclLS, ltb).getInfo()\n",
    "thre_ndvi_LS = thr_otsu(ndviLS, 'ndvi', sclLS, ltb).getInfo()"
   ]
  },
  {
   "cell_type": "code",
   "execution_count": 17,
   "id": "cfeb8635",
   "metadata": {},
   "outputs": [],
   "source": [
    "classLS_otsu_mndwi = mndwiLS.gt(thre_mndwi_LS)\n",
    "classLS_otsu_ndvi = ndviLS.lt(thre_ndvi_LS)"
   ]
  },
  {
   "cell_type": "code",
   "execution_count": 18,
   "id": "c06ce0ef",
   "metadata": {},
   "outputs": [],
   "source": [
    "Map = geemap.Map()\n",
    "vis = {\n",
    "    'bands': ['Red', 'Green', 'Blue'],\n",
    "    'min': 0,\n",
    "    'max': 0.7042,\n",
    "    'gamma': 2\n",
    "}\n",
    "Map.centerObject(imgPS, 12)\n",
    "Map.addLayer(imgPS, vis, 'PS')"
   ]
  },
  {
   "cell_type": "code",
   "execution_count": 19,
   "id": "94a03cf0",
   "metadata": {},
   "outputs": [],
   "source": [
    "Map.addLayer(imgLS, vis, 'LS')"
   ]
  },
  {
   "cell_type": "code",
   "execution_count": 20,
   "id": "fe13dbcb",
   "metadata": {},
   "outputs": [],
   "source": [
    "Map.addLayer(classLS_minDis.eq(1).selfMask(), {'palette': 'coral'}, 'minDis')\n",
    "Map.addLayer(classLS_Zou.eq(1).selfMask(), {'palette': 'royalblue'}, 'Zou')\n",
    "Map.addLayer(classLS_otsu_mndwi.selfMask(), {'palette': 'plum'}, 'otsu_mndwi')\n",
    "Map.addLayer(classLS_otsu_ndvi.selfMask(), {'palette': 'forestgreen'}, 'otsu_ndvi')"
   ]
  },
  {
   "cell_type": "code",
   "execution_count": 44,
   "id": "4b94a69a",
   "metadata": {},
   "outputs": [],
   "source": [
    "Map.addLayer(classLS_minDis12, {'min':1, 'max':3, 'palette': ['#0080FF', 'red', 'green']}, 'rescaled')"
   ]
  },
  {
   "cell_type": "code",
   "execution_count": 46,
   "id": "4a9ea625",
   "metadata": {},
   "outputs": [],
   "source": [
    "Map.addLayer(imgLS_a, {}, 'imgLS_a')"
   ]
  },
  {
   "cell_type": "code",
   "execution_count": 38,
   "id": "f2cdfffa",
   "metadata": {},
   "outputs": [
    {
     "data": {
      "application/vnd.jupyter.widget-view+json": {
       "model_id": "8f3a4c3e8cf84a61a9ebedc090702ba9",
       "version_major": 2,
       "version_minor": 0
      },
      "text/plain": [
       "Map(bottom=210338.00003051758, center=[33.656923909847805, -90.1949706187752], controls=(WidgetControl(options…"
      ]
     },
     "metadata": {},
     "output_type": "display_data"
    }
   ],
   "source": [
    "Map"
   ]
  },
  {
   "cell_type": "raw",
   "id": "14737560",
   "metadata": {},
   "source": [
    "task_config = {\n",
    "    'image': imgLS_a,\n",
    "    'description': 'imgLS',\n",
    "    'folder': 'LT',\n",
    "    'maxPixels': 1e9,\n",
    "    'region': ltb,\n",
    "    'scale': 30,\n",
    "    }\n",
    "\n",
    "task = ee.batch.Export.image.toDrive(**task_config)\n",
    "task.start()"
   ]
  },
  {
   "cell_type": "code",
   "execution_count": 47,
   "id": "cc6bb879",
   "metadata": {},
   "outputs": [],
   "source": [
    "task_config = {\n",
    "    'image': imgLS_a.clip(ltb),\n",
    "    'description': 'imgLS_3m',\n",
    "    'folder': 'LT',\n",
    "    'maxPixels': 1e9,\n",
    "    'region': ltb,\n",
    "    'scale': 3,\n",
    "    }\n",
    "\n",
    "task = ee.batch.Export.image.toDrive(**task_config)\n",
    "task.start()"
   ]
  },
  {
   "cell_type": "raw",
   "id": "56ca5d15",
   "metadata": {},
   "source": [
    "task_config = {\n",
    "    'image': imgLS.select('Red', 'Green', 'Blue'),\n",
    "    'description': 'imgLS',\n",
    "    'folder': 'LT',\n",
    "    #'maxPixels': 1e9,\n",
    "    'region': ltb\n",
    "    }\n",
    "\n",
    "task = ee.batch.Export.image.toDrive(**task_config)\n",
    "task.start()"
   ]
  },
  {
   "cell_type": "markdown",
   "id": "49f24301",
   "metadata": {},
   "source": [
    "task_config = {\n",
    "    'image': classLS_minDis,\n",
    "    'description': 'classLS_minDis',\n",
    "    'folder': 'LT',\n",
    "    'maxPixels': 1e9,\n",
    "    'region': ltb,\n",
    "    'scale': 30\n",
    "    }\n",
    "\n",
    "task = ee.batch.Export.image.toDrive(**task_config)\n",
    "task.start()"
   ]
  },
  {
   "cell_type": "code",
   "execution_count": 45,
   "id": "a19e098c",
   "metadata": {},
   "outputs": [],
   "source": [
    "task_config = {\n",
    "    'image': classLS_minDis12,\n",
    "    'description': 'classLS_minDis_3m',\n",
    "    'folder': 'LT',\n",
    "    'maxPixels': 1e9,\n",
    "    'region': ltb,\n",
    "    'scale': 3\n",
    "    }\n",
    "\n",
    "task = ee.batch.Export.image.toDrive(**task_config)\n",
    "task.start()"
   ]
  },
  {
   "cell_type": "raw",
   "id": "76ddf448",
   "metadata": {},
   "source": [
    "task_config = {\n",
    "    'image': classLS_Zou,\n",
    "    'description': 'classLS_Zou',\n",
    "    'folder': 'LT',\n",
    "    'maxPixels': 1e9,\n",
    "    'region': ltb\n",
    "    }\n",
    "\n",
    "task = ee.batch.Export.image.toDrive(**task_config)\n",
    "task.start()"
   ]
  },
  {
   "cell_type": "raw",
   "id": "92d4cbef",
   "metadata": {},
   "source": [
    "task_config = {\n",
    "    'image': classLS_otsu_mndwi.selfMask(),\n",
    "    'description': 'classLS_otsu_mndwi',\n",
    "    'folder': 'LT',\n",
    "    'maxPixels': 1e9,\n",
    "    'region': ltb\n",
    "    }\n",
    "\n",
    "task = ee.batch.Export.image.toDrive(**task_config)\n",
    "task.start()"
   ]
  },
  {
   "cell_type": "raw",
   "id": "817ddd24",
   "metadata": {},
   "source": [
    "task_config = {\n",
    "    'image': classLS_otsu_ndvi.selfMask(),\n",
    "    'description': 'classLS_otsu_ndvi',\n",
    "    'folder': 'LT',\n",
    "    'maxPixels': 1e9,\n",
    "    'region': ltb\n",
    "    }\n",
    "\n",
    "task = ee.batch.Export.image.toDrive(**task_config)\n",
    "task.start()"
   ]
  },
  {
   "cell_type": "code",
   "execution_count": 18,
   "id": "548d4e9d",
   "metadata": {},
   "outputs": [
    {
     "data": {
      "application/vnd.jupyter.widget-view+json": {
       "model_id": "952c2f79444d4ebfb91675a87f68dfc2",
       "version_major": 2,
       "version_minor": 0
      },
      "text/plain": [
       "Map(center=[33.547818096053696, -90.3439532342821], controls=(WidgetControl(options=['position', 'transparent_…"
      ]
     },
     "metadata": {},
     "output_type": "display_data"
    }
   ],
   "source": [
    "Map"
   ]
  },
  {
   "cell_type": "code",
   "execution_count": 17,
   "id": "b6798af0-b9e0-4b63-8545-6dd6c8ee4f37",
   "metadata": {},
   "outputs": [],
   "source": [
    "Map.addLayer(classPS1, {'min':1, 'max':3, 'palette': ['#0080FF', 'red', 'green']}, 'classPS1')\n",
    "Map.addLayer(classPS, {'min':1, 'max':3, 'palette': ['#0080FF', 'red', 'green']}, 'classPS')\n",
    "#Map.addLayer(classLS1, {'min':1, 'max':3, 'palette': ['#0080FF', 'red', 'green']}, 'classLS1')\n",
    "Map.addLayer(classLS, {'min':1, 'max':3, 'palette': ['#0080FF', 'red', 'green']}, 'classLS')"
   ]
  },
  {
   "cell_type": "code",
   "execution_count": 18,
   "id": "fc5d5f7d",
   "metadata": {},
   "outputs": [],
   "source": [
    "Map.addLayer(classLS1.selfMask(), {'palette': 'red'}, 'classLS1')"
   ]
  },
  {
   "cell_type": "code",
   "execution_count": 19,
   "id": "d742f211",
   "metadata": {},
   "outputs": [],
   "source": [
    "Map.addLayer(classLS2.eq(1).selfMask(), {'palette': 'blue'}, 'classLS2')"
   ]
  },
  {
   "cell_type": "code",
   "execution_count": 20,
   "id": "22593945",
   "metadata": {},
   "outputs": [],
   "source": [
    "Map.addLayer(classPS1.eq(2), {}, 'classPS1')"
   ]
  },
  {
   "cell_type": "code",
   "execution_count": 21,
   "id": "67bd7e35",
   "metadata": {},
   "outputs": [],
   "source": [
    "Map.addLayer(imgLS.select('SWIR1'), {}, 'SWIR1_rs')"
   ]
  },
  {
   "cell_type": "code",
   "execution_count": 22,
   "id": "9a6e2563",
   "metadata": {},
   "outputs": [
    {
     "data": {
      "application/vnd.jupyter.widget-view+json": {
       "model_id": "fcaca02b2cb34f6d90e4cbf844100366",
       "version_major": 2,
       "version_minor": 0
      },
      "text/plain": [
       "Map(center=[33.547818096053696, -90.3439532342821], controls=(WidgetControl(options=['position', 'transparent_…"
      ]
     },
     "metadata": {},
     "output_type": "display_data"
    }
   ],
   "source": [
    "Map"
   ]
  },
  {
   "cell_type": "raw",
   "id": "1c48a5bb",
   "metadata": {},
   "source": [
    "task_config = {\n",
    "    'image': SWIR1,\n",
    "    'description': 'SWIR1',\n",
    "    'folder': 'LT',\n",
    "    'maxPixels': 1e9,\n",
    "    'region': ltb\n",
    "    }\n",
    "\n",
    "task = ee.batch.Export.image.toDrive(**task_config)\n",
    "task.start()"
   ]
  },
  {
   "cell_type": "raw",
   "id": "4e3b4874",
   "metadata": {},
   "source": [
    "task_config = {\n",
    "    'image': imgLS.select('SWIR1'),\n",
    "    'description': 'SWIR1_org',\n",
    "    'scale': 30,\n",
    "    'folder': 'LT',\n",
    "    'region': ltb\n",
    "    }\n",
    "\n",
    "task = ee.batch.Export.image.toDrive(**task_config)\n",
    "task.start()"
   ]
  },
  {
   "cell_type": "raw",
   "id": "605b130e",
   "metadata": {},
   "source": [
    "task_config = {\n",
    "    'image': classPS,\n",
    "    'description': 'classified_PS',\n",
    "    'folder': 'LT',\n",
    "    'maxPixels': 1e9,\n",
    "    'region': ltb\n",
    "    }\n",
    "\n",
    "task = ee.batch.Export.image.toDrive(**task_config)\n",
    "task.start()"
   ]
  },
  {
   "cell_type": "raw",
   "id": "57a562d8",
   "metadata": {},
   "source": [
    "task_config = {\n",
    "    'image': classPS1,\n",
    "    'description': 'classified_PS_SWIR1',\n",
    "    'folder': 'LT',\n",
    "    'maxPixels': 1e9,\n",
    "    'region': ltb\n",
    "    }\n",
    "\n",
    "task = ee.batch.Export.image.toDrive(**task_config)\n",
    "task.start()"
   ]
  },
  {
   "cell_type": "code",
   "execution_count": 75,
   "id": "897d58d2",
   "metadata": {
    "scrolled": false
   },
   "outputs": [
    {
     "data": {
      "application/vnd.jupyter.widget-view+json": {
       "model_id": "99acae9fdb9a43d89145c3f65d952e08",
       "version_major": 2,
       "version_minor": 0
      },
      "text/plain": [
       "Map(center=[33.547818096053696, -90.3439532342821], controls=(WidgetControl(options=['position', 'transparent_…"
      ]
     },
     "metadata": {},
     "output_type": "display_data"
    }
   ],
   "source": [
    "Map"
   ]
  },
  {
   "cell_type": "code",
   "execution_count": 20,
   "id": "fd811b79",
   "metadata": {},
   "outputs": [],
   "source": [
    "ndvi = imgPS.normalizedDifference(['NIR', 'Red']).rename('NDVI')\n",
    "evi = Evi(imgPS).rename('EVI')"
   ]
  },
  {
   "cell_type": "code",
   "execution_count": 22,
   "id": "caf57d1f",
   "metadata": {},
   "outputs": [],
   "source": [
    "ndvi1 = imgLS.normalizedDifference(['NIR', 'Red']).rename('NDVI')\n",
    "evi1 = Evi(imgLS).rename('EVI')"
   ]
  },
  {
   "cell_type": "code",
   "execution_count": 19,
   "id": "6aa95fe7",
   "metadata": {},
   "outputs": [],
   "source": [
    "def plot_hist1(img, ndvi, ltb, name, title, scale=3, alpha=0.8):\n",
    "    water = img.eq(1)\n",
    "    sand = img.eq(2)\n",
    "    plant = img.eq(3)\n",
    "    my_sample_water = ndvi.updateMask(water).clip(ltb).sample(ltb, numPixels=5000, scale=scale)\n",
    "    my_sample_sand = ndvi.updateMask(sand).clip(ltb).sample(ltb, numPixels=5000, scale=scale)\n",
    "    my_sample_plant = ndvi.updateMask(plant).clip(ltb).sample(ltb, numPixels=5000, scale=scale)\n",
    "    l_water = my_sample_water.getInfo()['features']\n",
    "    l_sand = my_sample_sand.getInfo()['features']\n",
    "    l_plant = my_sample_plant.getInfo()['features']\n",
    "    stat_water = [i['properties'][name] for i in l_water]\n",
    "    stat_sand = [i['properties'][name] for i in l_sand]\n",
    "    stat_plant = [i['properties'][name] for i in l_plant]\n",
    "    plt.hist(stat_water, density=True, bins=100, alpha=alpha, range=[-1, 1], label='water')\n",
    "    plt.hist(stat_sand, density=True, bins=100, alpha=alpha, range=[-1, 1], label='sand')\n",
    "    plt.hist(stat_plant, density=True, bins=100, alpha=alpha, range=[-1, 1], label='vegetation')\n",
    "    plt.title(title)\n",
    "    plt.xlabel('NDVI values')\n",
    "    plt.ylabel('PDF (%)')\n",
    "    plt.legend(loc=2)"
   ]
  },
  {
   "cell_type": "code",
   "execution_count": 21,
   "id": "d820c0a8",
   "metadata": {},
   "outputs": [
    {
     "data": {
      "image/png": "[encoded data removed]",
      "text/plain": [
       "<Figure size 432x288 with 1 Axes>"
      ]
     },
     "metadata": {
      "needs_background": "light"
     },
     "output_type": "display_data"
    }
   ],
   "source": [
    "plot_hist1(classPS, ndvi, ltb, 'NDVI', 'PlanetScope')"
   ]
  },
  {
   "cell_type": "code",
   "execution_count": 24,
   "id": "8807f51c",
   "metadata": {},
   "outputs": [
    {
     "data": {
      "image/png": "[encoded data removed]",
      "text/plain": [
       "<Figure size 432x288 with 1 Axes>"
      ]
     },
     "metadata": {
      "needs_background": "light"
     },
     "output_type": "display_data"
    }
   ],
   "source": [
    "plot_hist1(classLS_minDis, ndvi1, ltb, 'NDVI', 'Landsat 8')"
   ]
  },
  {
   "cell_type": "code",
   "execution_count": 25,
   "id": "f687a098",
   "metadata": {},
   "outputs": [],
   "source": [
    "Map.addLayer(evi.lt(0.1).selfMask(), {}, 'evi')"
   ]
  },
  {
   "cell_type": "code",
   "execution_count": 33,
   "id": "c52cc4d1",
   "metadata": {},
   "outputs": [],
   "source": [
    "Map.addLayer(ndvi.lt(0.2).selfMask(), {'palette': 'blue'}, 'ndvi')"
   ]
  },
  {
   "cell_type": "code",
   "execution_count": 34,
   "id": "444de6c8",
   "metadata": {},
   "outputs": [],
   "source": [
    "Map.addLayer(ndvi1.lt(0.2).selfMask(), {'palette': 'white'}, 'ndvi1')"
   ]
  },
  {
   "cell_type": "code",
   "execution_count": 30,
   "id": "521caeca",
   "metadata": {},
   "outputs": [],
   "source": [
    "Map.addLayer(ndvi.lt(0.2), {}, 'ndvi')"
   ]
  },
  {
   "cell_type": "code",
   "execution_count": 77,
   "id": "0aca8726",
   "metadata": {},
   "outputs": [],
   "source": [
    "Map.addLayer(evi.gt(0.15).And(evi.lt(0.3)).selfMask(), {}, 'evi')"
   ]
  },
  {
   "cell_type": "code",
   "execution_count": 74,
   "id": "3655991a",
   "metadata": {},
   "outputs": [],
   "source": [
    "Map.addLayer(evi1.lt(0.2).selfMask(), {}, 'evi1')"
   ]
  },
  {
   "cell_type": "code",
   "execution_count": 41,
   "id": "bf608dc3",
   "metadata": {},
   "outputs": [],
   "source": [
    "Map.addLayer(ndvi.lt(0.2).And(ndvi.gt(0.1)).And(evi.lt(0.2)).selfMask(), {}, 'sand')"
   ]
  },
  {
   "cell_type": "code",
   "execution_count": 49,
   "id": "bf5b71fc",
   "metadata": {},
   "outputs": [],
   "source": [
    "Map.addLayer(ndvi1.lt(0.3).And(ndvi1.gt(0.2)).And(evi1.lt(0.3)).selfMask(), {}, 'sand1')"
   ]
  },
  {
   "cell_type": "code",
   "execution_count": 26,
   "id": "31301485-17f3-4d60-848e-06d210498ee1",
   "metadata": {},
   "outputs": [
    {
     "data": {
      "application/vnd.jupyter.widget-view+json": {
       "model_id": "15c4d09ff46442eda814290e86495641",
       "version_major": 2,
       "version_minor": 0
      },
      "text/plain": [
       "Map(center=[33.547818096053696, -90.3439532342821], controls=(WidgetControl(options=['position', 'transparent_…"
      ]
     },
     "metadata": {},
     "output_type": "display_data"
    }
   ],
   "source": [
    "Map"
   ]
  },
  {
   "cell_type": "code",
   "execution_count": 4,
   "id": "770ded3d-ddb5-47f3-873d-020b274587fb",
   "metadata": {},
   "outputs": [],
   "source": [
    "# landsat classification\n",
    "classLS = classification(imgLS, sclLS, method='minDis')\n",
    "# obtain river mask from landsat\n",
    "waterLS = classLS.eq(1)\n",
    "waterLS1 = close(waterLS, 30, radius=1.5, kernelType='square', iterations=1)\n",
    "riverLS = noise_removal(waterLS1, 30, 1000, 4)"
   ]
  },
  {
   "cell_type": "code",
   "execution_count": 5,
   "id": "42aa6373-8fa6-494f-9a64-0b209a7cceab",
   "metadata": {},
   "outputs": [],
   "source": [
    "# planet classification\n",
    "classPS = classification(imgPS, sclPS, method='minDis')"
   ]
  },
  {
   "cell_type": "code",
   "execution_count": 6,
   "id": "fdcaa34f-a898-49a3-bccf-3555c5a649cc",
   "metadata": {},
   "outputs": [],
   "source": [
    "# river mask from landsat\n",
    "mask = riverLS.focal_max(1.5, iterations = 3).reproject(crs = crsLS, scale = 30)"
   ]
  },
  {
   "cell_type": "code",
   "execution_count": 7,
   "id": "c1e54629-f49d-4c80-ac9b-3f94600826a2",
   "metadata": {},
   "outputs": [],
   "source": [
    "# obtain river masks from planet\n",
    "waterPS = classPS.eq(1).updateMask(mask)\n",
    "waterPS2 = close(waterPS, 3, radius=3)\n",
    "riverPS = noise_removal(waterPS2, 3, 1000, 4)"
   ]
  },
  {
   "cell_type": "code",
   "execution_count": 8,
   "id": "4ea3e432-ff2a-4356-a196-6bf8ab300545",
   "metadata": {},
   "outputs": [],
   "source": [
    "# fill holes of river masks\n",
    "notRiver = riverPS.unmask().Not()\n",
    "riverPS1 = noise_removal(notRiver, 3, 50, 4)\n",
    "riverPS2 = riverPS1.unmask().Not()"
   ]
  },
  {
   "cell_type": "code",
   "execution_count": 9,
   "id": "2cc10533-5206-4031-be9d-1492770d0e8c",
   "metadata": {},
   "outputs": [],
   "source": [
    "distM = CalcDistanceMap(riverPS2, 60, sclPS)\n",
    "gradM = CalcGradientMap(distM, 2, sclPS)\n",
    "cl1 = CalcOnePixelWidthCenterline(riverPS2, gradM, 0.9)\n",
    "k1 = ee.Kernel.fixed(3, 3, [[1, 1, 1], [1, 1, 1], [1, 1, 1]])\n",
    "clEC = cl1.selfMask().reduceNeighborhood(ee.Reducer.sum(), k1).lte(5).selfMask()\n",
    "cl11 = noise_removal(clEC, 3, 500, 8)"
   ]
  },
  {
   "cell_type": "code",
   "execution_count": 10,
   "id": "2b10a44c-970a-43db-aed1-4402ca50dc24",
   "metadata": {},
   "outputs": [],
   "source": [
    "# calculate centerline\n",
    "cl = CalculateCenterline(riverPS2.unmask(), sclPS, thre=0.9)"
   ]
  },
  {
   "cell_type": "code",
   "execution_count": 11,
   "id": "ed28fde9-ae69-4a47-bf28-57dd252c4a7f",
   "metadata": {},
   "outputs": [],
   "source": [
    "cl = ee.Image(\"users/luoyee1997/geeRiver/LT/river_centerline\")"
   ]
  },
  {
   "cell_type": "code",
   "execution_count": 12,
   "id": "cf7cee21-6ceb-4f3a-8808-b72854218f8b",
   "metadata": {},
   "outputs": [],
   "source": [
    "# trim unwanted branches\n",
    "trimed = trim_centerline(cl, sclPS, 300, 5).selfMask()"
   ]
  },
  {
   "cell_type": "raw",
   "id": "e3038c75-6977-4820-9058-14d2ee6e2297",
   "metadata": {},
   "source": [
    "task = ee.batch.Export.image.toAsset(**{\n",
    "    'image': riverPS2,\n",
    "    'description': 'river_centerline',\n",
    "    'assetId': 'users/luoyee1997/geeRiver/LT/river_centerline',\n",
    "    'scale': 3,\n",
    "    'maxPixels': 6e8,\n",
    "  'region': ltb\n",
    "})\n",
    "task.start()"
   ]
  },
  {
   "cell_type": "raw",
   "id": "a456766f-1ccc-430e-bebf-bb88cde95f47",
   "metadata": {},
   "source": [
    "task = ee.batch.Export.image.toAsset(**{\n",
    "    'image': cl.selfMask(),\n",
    "    'description': 'river_centerline',\n",
    "    'assetId': 'users/luoyee1997/geeRiver/LT/river_centerline',\n",
    "    'scale': 3,\n",
    "    'maxPixels': 6e8,\n",
    "  'region': ltb\n",
    "})\n",
    "task.start()"
   ]
  },
  {
   "cell_type": "code",
   "execution_count": 13,
   "id": "495af85e-f3c3-42ad-9a38-06800bf20ad6",
   "metadata": {},
   "outputs": [],
   "source": [
    "task = ee.batch.Export.image.toAsset(**{\n",
    "    'image': trimed,\n",
    "    'description': 'river_centerline',\n",
    "    'assetId': 'users/luoyee1997/geeRiver/LT/trimed',\n",
    "    'scale': 3,\n",
    "    'maxPixels': 6e8,\n",
    "  'region': ltb\n",
    "})\n",
    "task.start()"
   ]
  },
  {
   "cell_type": "code",
   "execution_count": 14,
   "id": "8bb248a4-3b03-4a8f-aecd-7a061651d293",
   "metadata": {},
   "outputs": [],
   "source": [
    "trimed = ee.Image(\"users/luoyee1997/geeRiver/LT/final_river_centerline3\")"
   ]
  },
  {
   "cell_type": "code",
   "execution_count": 15,
   "id": "6febcaa6-128c-442d-864f-3d9c5a09133b",
   "metadata": {},
   "outputs": [],
   "source": [
    "cl1 = ee.Image('users/luoyee1997/geeRiver/LT/CalcOnePxWdCL09')"
   ]
  },
  {
   "cell_type": "code",
   "execution_count": 16,
   "id": "1cc9ed77-2bc4-4b31-a8d8-8bc17a26c5d9",
   "metadata": {},
   "outputs": [],
   "source": [
    "k1 = ee.Kernel.fixed(3, 3, [[1, 1, 1], [1, 1, 1], [1, 1, 1]])\n",
    "clEC = cl1.selfMask().reduceNeighborhood(ee.Reducer.sum(), k1).lte(5).selfMask()"
   ]
  },
  {
   "cell_type": "code",
   "execution_count": 17,
   "id": "7685324c-c407-49f2-8c43-2f826905eec5",
   "metadata": {},
   "outputs": [],
   "source": [
    "cl11 = noise_removal(clEC, 3, 500, 8)"
   ]
  },
  {
   "cell_type": "code",
   "execution_count": 18,
   "id": "e211bcf5-c991-434b-92d2-c65752e26d80",
   "metadata": {},
   "outputs": [
    {
     "ename": "NameError",
     "evalue": "name 'cl1px1' is not defined",
     "output_type": "error",
     "traceback": [
      "\u001b[0;31m---------------------------------------------------------------------------\u001b[0m",
      "\u001b[0;31mNameError\u001b[0m                                 Traceback (most recent call last)",
      "\u001b[0;32m<ipython-input-18-2f2c1aeec34a>\u001b[0m in \u001b[0;36m<module>\u001b[0;34m\u001b[0m\n\u001b[0;32m----> 1\u001b[0;31m \u001b[0mendsByNeighbors\u001b[0m \u001b[0;34m=\u001b[0m \u001b[0mExtractEndpoints\u001b[0m\u001b[0;34m(\u001b[0m\u001b[0mcl1px1\u001b[0m\u001b[0;34m)\u001b[0m\u001b[0;34m\u001b[0m\u001b[0;34m\u001b[0m\u001b[0m\n\u001b[0m\u001b[1;32m      2\u001b[0m \u001b[0mjoints\u001b[0m \u001b[0;34m=\u001b[0m \u001b[0mExtractJoints\u001b[0m\u001b[0;34m(\u001b[0m\u001b[0mcl1px1\u001b[0m\u001b[0;34m)\u001b[0m\u001b[0;34m\u001b[0m\u001b[0;34m\u001b[0m\u001b[0m\n\u001b[1;32m      3\u001b[0m \u001b[0msep\u001b[0m \u001b[0;34m=\u001b[0m \u001b[0mcl1px1\u001b[0m\u001b[0;34m.\u001b[0m\u001b[0madd\u001b[0m\u001b[0;34m(\u001b[0m\u001b[0mjoints\u001b[0m\u001b[0;34m.\u001b[0m\u001b[0munmask\u001b[0m\u001b[0;34m(\u001b[0m\u001b[0;34m)\u001b[0m\u001b[0;34m.\u001b[0m\u001b[0mfocal_max\u001b[0m\u001b[0;34m(\u001b[0m\u001b[0;36m1.5\u001b[0m\u001b[0;34m,\u001b[0m \u001b[0;34m\"square\"\u001b[0m\u001b[0;34m)\u001b[0m\u001b[0;34m)\u001b[0m\u001b[0;34m.\u001b[0m\u001b[0meq\u001b[0m\u001b[0;34m(\u001b[0m\u001b[0;36m1\u001b[0m\u001b[0;34m)\u001b[0m\u001b[0;34m.\u001b[0m\u001b[0mselfMask\u001b[0m\u001b[0;34m(\u001b[0m\u001b[0;34m)\u001b[0m\u001b[0;34m\u001b[0m\u001b[0;34m\u001b[0m\u001b[0m\n\u001b[1;32m      4\u001b[0m costMap = (sep.cumulativeCost(\n\u001b[1;32m      5\u001b[0m     \u001b[0msource\u001b[0m \u001b[0;34m=\u001b[0m \u001b[0mendsByNeighbors\u001b[0m\u001b[0;34m,\u001b[0m\u001b[0;34m\u001b[0m\u001b[0;34m\u001b[0m\u001b[0m\n",
      "\u001b[0;31mNameError\u001b[0m: name 'cl1px1' is not defined"
     ]
    }
   ],
   "source": [
    "endsByNeighbors = ExtractEndpoints(cl1px1)\n",
    "joints = ExtractJoints(cl1px1)\n",
    "sep = cl1px1.add(joints.unmask().focal_max(1.5, \"square\")).eq(1).selfMask()\n",
    "costMap = (sep.cumulativeCost(\n",
    "    source = endsByNeighbors,\n",
    "    maxDistance = maxBranchLengthToRemove,\n",
    "    geodeticDistance = True))\n",
    "branchMask = costMap.gte(0).unmask(0)\n",
    "cl1px1 = cl1px1.updateMask(branchMask.Not())"
   ]
  },
  {
   "cell_type": "code",
   "execution_count": null,
   "id": "5ea4f8e6-8b70-4d46-ab49-bc73d59c05f8",
   "metadata": {},
   "outputs": [],
   "source": [
    "endsByNeighbors = ExtractEndpoints(cl11)\n",
    "joints = ExtractJoints1(cl11)\n",
    "sep = cl11.add(joints.unmask().focal_max(1.5, \"square\")).eq(1).selfMask()"
   ]
  },
  {
   "cell_type": "code",
   "execution_count": null,
   "id": "ad2928f5-a943-4b05-a6b0-b8b63c1e2f60",
   "metadata": {},
   "outputs": [],
   "source": [
    "costMap = (sep.cumulativeCost(\n",
    "    source = endsByNeighbors,\n",
    "    maxDistance = 300,\n",
    "    geodeticDistance = True))\n",
    "branchMask = costMap.gte(0).unmask(0)\n",
    "cl1px1 = cl11.updateMask(branchMask.Not())"
   ]
  },
  {
   "cell_type": "code",
   "execution_count": null,
   "id": "0d927b97-e079-4057-9f49-b6e25f2af852",
   "metadata": {},
   "outputs": [],
   "source": [
    "trimed1 = CleanCenterline(cl11, 300, 3, 1)"
   ]
  },
  {
   "cell_type": "code",
   "execution_count": null,
   "id": "4cde7f56-b8d2-477e-afd3-0252c169bd30",
   "metadata": {},
   "outputs": [],
   "source": [
    "trimed1 = ee.Image(\"users/luoyee1997/geeRiver/LT/trimed\")"
   ]
  },
  {
   "cell_type": "code",
   "execution_count": null,
   "id": "a18eedda-9b1a-4e91-bab5-cfd2dbcfe210",
   "metadata": {},
   "outputs": [],
   "source": [
    "Map = geemap.Map()"
   ]
  },
  {
   "cell_type": "code",
   "execution_count": null,
   "id": "fccd03fb-22a2-406c-a61c-4a5f74231fee",
   "metadata": {},
   "outputs": [],
   "source": [
    "Map.addLayer(trimed.reproject(crs = crsPS, scale = 3), {'palette': 'black'}, 'trimed')"
   ]
  },
  {
   "cell_type": "code",
   "execution_count": null,
   "id": "458dbf17-3fa8-4b2d-a04c-c7bc48ceb2f7",
   "metadata": {},
   "outputs": [],
   "source": [
    "#Map.addLayer(riverPS2.reproject(crs = crsPS, scale = 3),{}, 'river')\n",
    "Map.addLayer(cl11.selfMask().reproject(crs = crsPS, scale = 3), {'palette': 'red'}, 'cl')\n",
    "Map.addLayer(trimed1, {'palette': 'black'}, 'trimed')"
   ]
  },
  {
   "cell_type": "code",
   "execution_count": null,
   "id": "4a75ab3a-3e84-41ef-ba95-c7947ea66ce6",
   "metadata": {},
   "outputs": [],
   "source": [
    "Map.addLayer(endsByNeighbors.reproject(crs = crsPS, scale = 3), {'palette': 'orange'}, 'eds')"
   ]
  },
  {
   "cell_type": "code",
   "execution_count": null,
   "id": "999312a2-c9a2-4e0d-92f1-dada65a4b8db",
   "metadata": {},
   "outputs": [],
   "source": [
    "Map.addLayer(joints.reproject(crs = crsPS, scale = 3), {'palette': 'blue'}, 'joints')"
   ]
  },
  {
   "cell_type": "code",
   "execution_count": null,
   "id": "1765e542-26ad-4133-949d-4f72a1d75e0d",
   "metadata": {},
   "outputs": [],
   "source": [
    "Map.addLayer(sep.reproject(crs = crsPS, scale = 3), {'palette': 'orange'}, 'sep')"
   ]
  },
  {
   "cell_type": "code",
   "execution_count": null,
   "id": "28e54279-e264-4f83-ab4c-33abcf855924",
   "metadata": {},
   "outputs": [],
   "source": [
    "Map.addLayer(cl1px1.selfMask().reproject(crs = crsPS, scale = 3), {'palette': 'yellow'}, 'cl1px1')"
   ]
  },
  {
   "cell_type": "code",
   "execution_count": null,
   "id": "46e6d012-89ed-4b9c-b7f7-ba122715971b",
   "metadata": {},
   "outputs": [],
   "source": [
    "Map"
   ]
  },
  {
   "cell_type": "code",
   "execution_count": null,
   "id": "46643cff-4918-40a2-8b31-764f17a1710f",
   "metadata": {},
   "outputs": [],
   "source": []
  }
 ],
 "metadata": {
  "kernelspec": {
   "display_name": "Python 3",
   "language": "python",
   "name": "python3"
  },
  "language_info": {
   "codemirror_mode": {
    "name": "ipython",
    "version": 3
   },
   "file_extension": ".py",
   "mimetype": "text/x-python",
   "name": "python",
   "nbconvert_exporter": "python",
   "pygments_lexer": "ipython3",
   "version": "3.8.8"
  },
  "toc": {
   "base_numbering": 1,
   "nav_menu": {},
   "number_sections": true,
   "sideBar": true,
   "skip_h1_title": false,
   "title_cell": "Table of Contents",
   "title_sidebar": "Contents",
   "toc_cell": false,
   "toc_position": {},
   "toc_section_display": true,
   "toc_window_display": false
  }
 },
 "nbformat": 4,
 "nbformat_minor": 5
}
