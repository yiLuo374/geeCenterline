{
 "cells": [
  {
   "cell_type": "code",
   "execution_count": 1,
   "id": "8358e1aa",
   "metadata": {},
   "outputs": [],
   "source": [
    "import geemap\n",
    "import ee\n",
    "import numpy as np\n",
    "import folium\n",
    "import os\n",
    "import pprint\n",
    "import time\n",
    "geemap.ee_initialize()"
   ]
  },
  {
   "cell_type": "code",
   "execution_count": 2,
   "id": "3d39768e",
   "metadata": {},
   "outputs": [],
   "source": [
    "# def add_ee_layer\n",
    "def add_ee_layer(self, ee_image_object, vis_params, name):\n",
    "  map_id_dict = ee.Image(ee_image_object).getMapId(vis_params)\n",
    "  folium.raster_layers.TileLayer(\n",
    "      tiles=map_id_dict['tile_fetcher'].url_format,\n",
    "      attr='Map Data &copy; <a href=\"https://earthengine.google.com/\">Google Earth Engine</a>',\n",
    "      name=name,\n",
    "      overlay=True,\n",
    "      control=True\n",
    "  ).add_to(self)\n",
    "\n",
    "folium.Map.add_ee_layer = add_ee_layer"
   ]
  },
  {
   "cell_type": "code",
   "execution_count": 3,
   "id": "f5dc44bb",
   "metadata": {},
   "outputs": [],
   "source": [
    "#load data\n",
    "def load_data(geeID, data_type, *bandNames): \n",
    "    #image: data_type=0; ImageCollection: data_type=1; FeatureCollection: data_type\n",
    "    #bandNames: rename bands for Image or ImageCollection; i.e. ['Red', 'Green', 'Blue', 'NIR'] for Planet Scope\n",
    "    if data_type == 0:\n",
    "        image = ee.Image(geeID)\n",
    "        if bandNames != None:\n",
    "            image = image.rename(bandNames)\n",
    "        return image\n",
    "    elif data_type == 1:\n",
    "        imageCollection = ee.ImageCollection(geeID)\n",
    "        return imageCollection\n",
    "    elif data_tpye == 2:\n",
    "        geometry = ee.FeatureCollection(geeID).geometry()\n",
    "        return geometry"
   ]
  },
  {
   "cell_type": "code",
   "execution_count": 4,
   "id": "a258507d",
   "metadata": {},
   "outputs": [],
   "source": [
    "def show_image_geemap(image, gamma=1):\n",
    "    Map = geemap.Map()\n",
    "    Map.centerObject(image)\n",
    "    maxValue = image.reduceRegion(ee.Reducer.max(), bestEffort=True).getInfo()['Blue']\n",
    "    minValue = image.reduceRegion(ee.Reducer.min(), bestEffort=True).getInfo()['Red']\n",
    "    img_viz_params = {\n",
    "        'bands': ['Red', 'Green', 'Blue'],\n",
    "        'min': minValue,\n",
    "        'max': maxValue,\n",
    "        'gamma': gamma\n",
    "    }\n",
    "    Map.addLayer(image, img_viz_params, 'image')\n",
    "    return(Map)"
   ]
  },
  {
   "cell_type": "code",
   "execution_count": 5,
   "id": "5d78ece4",
   "metadata": {},
   "outputs": [],
   "source": [
    "def geo_to_featureCollection(*args, labelName='class'):\n",
    "    # args: geometries\n",
    "    l = []\n",
    "    n = len(args)\n",
    "    for i in args:\n",
    "        l.append(ee.Feature(i, {labelName: (n-1)}))\n",
    "    fC = ee.FeatureCollection(l)\n",
    "    return fC"
   ]
  },
  {
   "cell_type": "code",
   "execution_count": 6,
   "id": "fe6a9a4f",
   "metadata": {},
   "outputs": [],
   "source": [
    "def Evi(image):\n",
    "    # calculate the enhanced vegetation index\n",
    "    evi = image.expression('2.5 * (Nir - Red) / (1 + Nir + 6 * Red - 7.5 * Blue)', {\n",
    "    'Nir': image.select(['NIR']),\n",
    "    'Red': image.select(['Red']),\n",
    "    'Blue': image.select(['Blue'])\n",
    "    })\n",
    "    return evi.rename(['evi'])"
   ]
  },
  {
   "cell_type": "code",
   "execution_count": 24,
   "id": "2a7c4e4e",
   "metadata": {},
   "outputs": [],
   "source": [
    "#Classification\n",
    "def classification(image, method = 'ModZou', *scale, **kwargs):\n",
    "    # methods: NaiveBayes, Zou(method from Zou[2018]), ModZou(modified from Zou[2018])\n",
    "    # kwargs: simples are needed for Naive Bayes supervised classification method\n",
    "    # scale is necessary for naive Bayes\n",
    "    if method == 'NaiveBayes':\n",
    "        #NaiveBayes\n",
    "        #Three land type simple regions: water, plant, sand (other)\n",
    "        bands = image.bandNames()\n",
    "        classif = kwargs.pop(\"simples\")\n",
    "        labels = classif.first().propertyNames().getInfo()[1]\n",
    "        training = image.select(bands).sampleRegions(**{\n",
    "            'collection': classif,\n",
    "            'properties': [labels],\n",
    "            'scale' : scale\n",
    "        })\n",
    "        trained = ee.Classifier.smileNaiveBayes().train(training, labels, bands)\n",
    "        classified = image.select(bands).classify(trained)\n",
    "        water_mask = classified.eq(0)\n",
    "        sand_mask = classified.eq(2)\n",
    "        return(water_mask, sand_mask)\n",
    "    \n",
    "    elif method == 'Zou':\n",
    "        ndvi = image.normalizedDifference(['NIR', 'Red']).renames('ndvi')\n",
    "        mndwi = image.normalizedDifference(['Green', 'Swir1']).rename('mndwi')\n",
    "        evi = Evi(image)\n",
    "        water_mask = (mndwi.gt(ndvi).Or(mndwi.gt(evi))).And(evi.lt(0.2))\n",
    "        return(water_mask)\n",
    "    \n",
    "    elif method == 'ModZou':\n",
    "        ndvi = image.normalizedDifference(['NIR', 'Red']).rename('ndvi')\n",
    "        ndwi = image.normalizedDifference(['Green', 'NIR']).rename('ndwi')\n",
    "        evi = Evi(image)\n",
    "        water_mask = (ndwi.gt(ndvi).Or(ndwi.gt(evi))).And(evi.lt(0.2))\n",
    "        return(water_mask)"
   ]
  },
  {
   "cell_type": "code",
   "execution_count": 11,
   "id": "ff3c969b",
   "metadata": {},
   "outputs": [],
   "source": [
    "def close(image, radius=1.5, kernelType='circle', units='pixels', iterations=1, kernel=None):\n",
    "    image = image.focal_max(radius, kernelType, units, iterations, kernel)\\\n",
    "        .focal_min(radius, kernelType, units, iterations, kernel)\n",
    "    return image"
   ]
  },
  {
   "cell_type": "code",
   "execution_count": 44,
   "id": "6320d145",
   "metadata": {},
   "outputs": [],
   "source": [
    "def connect(image, scale, radius, iterations):\n",
    "    crs = image.projection().crs().getInfo()\n",
    "    water_close = close(image, radius, iterations).reproject(crs = crs, scale = scale)\n",
    "    return water_close"
   ]
  },
  {
   "cell_type": "code",
   "execution_count": 8,
   "id": "21b97eee",
   "metadata": {},
   "outputs": [],
   "source": [
    "def noise_removal(mask0, scale, bandName = None):\n",
    "    #remove other water bodies and noises from the water mask\n",
    "    #if the bandName of the mask is not given, the first band will be considered the mask\n",
    "    crs = mask0.projection().crs().getInfo()\n",
    "    if bandName == None:\n",
    "        bandName = mask0.bandNames().getInfo()[0]\n",
    "    mask = mask0.focal_min(1, kernelType='square')\\\n",
    "        .reproject(crs = crs, scale = scale)\n",
    "    mask1 = mask.addBands(mask.eq(0))\\\n",
    "        .reduceConnectedComponents(ee.Reducer.median(), bandName, 1024)\\\n",
    "        .eq(0).unmask()\\\n",
    "        .reproject(crs = crs, scale = scale)\n",
    "    mask2 = mask1.add(mask).eq(1)\n",
    "    mask3 = mask2.focal_max(1, kernelType='square')\\\n",
    "        .reproject(crs = crs, scale = scale)\n",
    "    return mask3"
   ]
  },
  {
   "cell_type": "code",
   "execution_count": 9,
   "id": "089a98ae",
   "metadata": {},
   "outputs": [],
   "source": [
    "def large_centerbar_removal(mask0, scale, area, bandName = None):\n",
    "    mask0 = mask0.Not()\n",
    "    crs = mask0.projection().crs().getInfo()\n",
    "    if bandName == None:\n",
    "        bandName = mask0.bandNames().getInfo()[0]\n",
    "    mask = mask0.focal_min(1, kernelType='square')\\\n",
    "        .reproject(crs = crs, scale = scale)\n",
    "    mask1 = mask.addBands(mask.eq(0))\\\n",
    "        .reduceConnectedComponents(ee.Reducer.median(), bandName, area)\\\n",
    "        .eq(0).unmask()\\\n",
    "        .reproject(crs = crs, scale = scale)\n",
    "    mask2 = mask1.focal_max(1, kernelType='square')\\\n",
    "        .reproject(crs = crs, scale = scale)\n",
    "    return mask2"
   ]
  },
  {
   "cell_type": "code",
   "execution_count": 10,
   "id": "c4faf6b8",
   "metadata": {},
   "outputs": [],
   "source": [
    "def small_centerbar_removal(mask0, scale, area=100, bandName = None):\n",
    "    mask = mask0.Not()\n",
    "    crs = mask.projection().crs().getInfo()\n",
    "    mask1 = mask.connectedPixelCount(area, False).reproject(crs = crs, scale = scale)\n",
    "    mask2 = mask1.lt(area).selfMask().unmask()\n",
    "    mask3 = mask0.Or(mask2)\n",
    "    return mask3"
   ]
  },
  {
   "cell_type": "code",
   "execution_count": 12,
   "id": "7e9a2a4c",
   "metadata": {},
   "outputs": [],
   "source": [
    "def hitOrMiss(image, se1, se2):\n",
    "    \"\"\"perform hitOrMiss transform (adapted from [citation])\n",
    "    \"\"\"\n",
    "    e1 = image.reduceNeighborhood(ee.Reducer.min(), se1)\n",
    "    e2 = image.Not().reduceNeighborhood(ee.Reducer.min(), se2)\n",
    "    return e1.And(e2)"
   ]
  },
  {
   "cell_type": "code",
   "execution_count": 13,
   "id": "7a9aec20",
   "metadata": {},
   "outputs": [],
   "source": [
    "def splitKernel(kernel, value):\n",
    "    \"\"\"recalculate the kernel according to the given foreground value\n",
    "    \"\"\"\n",
    "    kernel = np.array(kernel)\n",
    "    result = kernel\n",
    "    r = 0\n",
    "    while (r < kernel.shape[0]):\n",
    "        c = 0\n",
    "        while (c < kernel.shape[1]):\n",
    "            if kernel[r][c] == value:\n",
    "                result[r][c] = 1\n",
    "            else:\n",
    "                result[r][c] = 0\n",
    "            c = c + 1\n",
    "        r = r + 1\n",
    "    return result.tolist()"
   ]
  },
  {
   "cell_type": "code",
   "execution_count": 14,
   "id": "de6838d1",
   "metadata": {},
   "outputs": [],
   "source": [
    "def Skeletonize(image, iterations, method):\n",
    "    \"\"\"perform skeletonization\n",
    "    \"\"\"\n",
    "\n",
    "    se1w = [[2, 2, 2], [0, 1, 0], [1, 1, 1]]\n",
    "\n",
    "    if (method == 2):\n",
    "        se1w = [[2, 2, 2], [0, 1, 0], [0, 1, 0]]\n",
    "\n",
    "    se11 = ee.Kernel.fixed(3, 3, splitKernel(se1w, 1))\n",
    "    se12 = ee.Kernel.fixed(3, 3, splitKernel(se1w, 2))\n",
    "\n",
    "    se2w = [[2, 2, 0], [2, 1, 1], [0, 1, 0]]\n",
    "\n",
    "    if (method == 2):\n",
    "        se2w = [[2, 2, 0], [2, 1, 1], [0, 1, 1]]\n",
    "\n",
    "    se21 = ee.Kernel.fixed(3, 3, splitKernel(se2w, 1))\n",
    "    se22 = ee.Kernel.fixed(3, 3, splitKernel(se2w, 2))\n",
    "\n",
    "    result = image\n",
    "\n",
    "    i = 0\n",
    "    while (i < iterations):\n",
    "        j = 0\n",
    "        while (j < 4):\n",
    "              result = result.subtract(hitOrMiss(result, se11, se12))\n",
    "              se11 = se11.rotate(1)\n",
    "              se12 = se12.rotate(1)\n",
    "              result = result.subtract(hitOrMiss(result, se21, se22))\n",
    "              se21 = se21.rotate(1)\n",
    "              se22 = se22.rotate(1)\n",
    "              j = j + 1\n",
    "        i = i + 1\n",
    "\n",
    "    return result.rename(['clRaw'])"
   ]
  },
  {
   "cell_type": "code",
   "execution_count": 15,
   "id": "3f806b5a",
   "metadata": {},
   "outputs": [],
   "source": [
    "def CalcDistanceMap(img, neighborhoodSize, scale):\n",
    "    # // assign each river pixel with the distance (in meter) between itself and the closest non-river pixel\n",
    "    imgD2 = img.focal_max(1.5, 'circle', 'pixels', 2)\n",
    "    imgD1 = img.focal_max(1.5, 'circle', 'pixels', 1)\n",
    "    outline = imgD2.subtract(imgD1)\n",
    "\n",
    "    dpixel = outline.fastDistanceTransform(neighborhoodSize).sqrt()\n",
    "    dmeters = dpixel.multiply(scale) #// for a given scale\n",
    "    DM = dmeters.mask(dpixel.lte(neighborhoodSize).And(imgD2))\n",
    "\n",
    "    return(DM)"
   ]
  },
  {
   "cell_type": "code",
   "execution_count": 16,
   "id": "74958f5b",
   "metadata": {},
   "outputs": [],
   "source": [
    "def CalcGradientMap(image, gradMethod, scale):\n",
    "    ## Calculate the gradient\n",
    "    if (gradMethod == 1): # GEE .gradient() method\n",
    "        grad = image.gradient()\n",
    "        dx = grad.select(['x'])\n",
    "        dy = grad.select(['y'])\n",
    "        g = dx.multiply(dx).add(dy.multiply(dy)).sqrt()\n",
    "\n",
    "    if (gradMethod == 2): # Gena's method\n",
    "        k_dx = ee.Kernel.fixed(3, 3, [[ 1.0/8, 0.0, -1.0/8], [ 2.0/8, 0.0, -2.0/8], [ 1.0/8,  0.0, -1.0/8]])\n",
    "        k_dy = ee.Kernel.fixed(3, 3, [[ -1.0/8, -2.0/8, -1.0/8], [ 0.0, 0.0, 0.0], [ 1.0/8, 2.0/8, 1.0/8]])\n",
    "        dx = image.convolve(k_dx)\n",
    "        dy = image.convolve(k_dy)\n",
    "        g = dx.multiply(dx).add(dy.multiply(dy)).divide(scale**2).sqrt()\n",
    "\n",
    "    if (gradMethod == 3): # RivWidth method\n",
    "        k_dx = ee.Kernel.fixed(3, 1, [[-0.5, 0.0, 0.5]])\n",
    "        k_dy = ee.Kernel.fixed(1, 3, [[0.5], [0.0], [-0.5]])\n",
    "        dx = image.convolve(k_dx)\n",
    "        dy = image.convolve(k_dy)\n",
    "        g = dx.multiply(dx).add(dy.multiply(dy)).divide(scale.multiply(scale))\n",
    "\n",
    "    return(g)"
   ]
  },
  {
   "cell_type": "code",
   "execution_count": 17,
   "id": "fbbebe10",
   "metadata": {},
   "outputs": [],
   "source": [
    "def CalcOnePixelWidthCenterline(img, GM, hGrad):\n",
    "    # /***\n",
    "    # calculate the 1px centerline from:\n",
    "    # 1. fast distance transform of the river banks\n",
    "    # 2. gradient of the distance transform, mask areas where gradient greater than a threshold hGrad\n",
    "    # 3. apply skeletonization twice to get a 1px centerline\n",
    "    # thresholding gradient map inspired by Pavelsky and Smith., 2008\n",
    "    # ***/\n",
    "\n",
    "    imgD2 = img.focal_max(1.5, 'circle', 'pixels', 2)\n",
    "    cl = ee.Image(GM).mask(imgD2).lte(hGrad).And(img)\n",
    "    # // apply skeletonization twice\n",
    "    cl1px = Skeletonize(cl, 2, 1)\n",
    "    return(cl1px)"
   ]
  },
  {
   "cell_type": "code",
   "execution_count": 18,
   "id": "6ec7c6e3",
   "metadata": {},
   "outputs": [],
   "source": [
    "def ExtractEndpoints(CL1px):\n",
    "    \"\"\"calculate end points in the one pixel centerline\n",
    "    \"\"\"\n",
    "\n",
    "    se1w = [[0, 0, 0], [2, 1, 2], [2, 2, 2]]\n",
    "\n",
    "    se11 = ee.Kernel.fixed(3, 3, splitKernel(se1w, 1))\n",
    "    se12 = ee.Kernel.fixed(3, 3, splitKernel(se1w, 2))\n",
    "\n",
    "    result = CL1px\n",
    "\n",
    "    # // the for loop removes the identified endpoints from the imput image\n",
    "    i = 0\n",
    "    while (i<4): # rotate kernels\n",
    "        result = result.subtract(hitOrMiss(CL1px, se11, se12))\n",
    "        se11 = se11.rotate(1)\n",
    "        se12 = se12.rotate(1)\n",
    "        i = i + 1\n",
    "    endpoints = CL1px.subtract(result)\n",
    "    return endpoints"
   ]
  },
  {
   "cell_type": "code",
   "execution_count": 19,
   "id": "f5ad1dbf",
   "metadata": {},
   "outputs": [],
   "source": [
    "def ExtractCorners(CL1px):\n",
    "    \"\"\"calculate corners in the one pixel centerline\n",
    "    \"\"\"\n",
    "\n",
    "    se1w = [[2, 2, 0], [2, 1, 1], [0, 1, 0]]\n",
    "\n",
    "    se11 = ee.Kernel.fixed(3, 3, splitKernel(se1w, 1))\n",
    "    se12 = ee.Kernel.fixed(3, 3, splitKernel(se1w, 2))\n",
    "\n",
    "    result = CL1px\n",
    "    # // the for loop removes the identified corners from the imput image\n",
    "\n",
    "    i = 0\n",
    "    while(i < 4): # rotate kernels\n",
    "\n",
    "        result = result.subtract(hitOrMiss(result, se11, se12))\n",
    "\n",
    "        se11 = se11.rotate(1)\n",
    "        se12 = se12.rotate(1)\n",
    "\n",
    "        i = i + 1\n",
    "\n",
    "    cornerPoints = CL1px.subtract(result)\n",
    "    return cornerPoints"
   ]
  },
  {
   "cell_type": "code",
   "execution_count": 20,
   "id": "67b24fbf",
   "metadata": {},
   "outputs": [],
   "source": [
    "def CleanCenterline(cl1px, maxBranchLengthToRemove, rmCorners):\n",
    "    \"\"\"clean the 1px centerline:\n",
    "\t1. remove branches\n",
    "\t2. remove corners to insure 1px width (optional)\n",
    "    \"\"\"\n",
    "\n",
    "    ## find the number of connecting pixels (8-connectivity)\n",
    "    nearbyPoints = (cl1px.mask(cl1px).reduceNeighborhood(\n",
    "        reducer = ee.Reducer.count(),\n",
    "        kernel = ee.Kernel.circle(1.5), #1.5\n",
    "        skipMasked = True))\n",
    "\n",
    "\t## define ends\n",
    "    endsByNeighbors = nearbyPoints.lte(2)\n",
    "\n",
    "\t## define joint points\n",
    "    joints = nearbyPoints.gte(4)\n",
    "\n",
    "    costMap = (cl1px.mask(cl1px).updateMask(joints.Not()).cumulativeCost(\n",
    "        source = endsByNeighbors.mask(endsByNeighbors),\n",
    "        maxDistance = maxBranchLengthToRemove,\n",
    "        geodeticDistance = True))\n",
    "\n",
    "    branchMask = costMap.gte(0).unmask(0)\n",
    "    cl1Cleaned = cl1px.updateMask(branchMask.Not()) # mask short branches;\n",
    "    ends = ExtractEndpoints(cl1Cleaned)\n",
    "    cl1Cleaned = cl1Cleaned.updateMask(ends.Not())\n",
    "    cl1Cleaned = close(cl1Cleaned)\n",
    "\n",
    "    if (rmCorners):\n",
    "        corners = ExtractCorners(cl1Cleaned)\n",
    "        cl1Cleaned = cl1Cleaned.updateMask(corners.Not())\n",
    "\n",
    "    return (cl1Cleaned)"
   ]
  },
  {
   "cell_type": "code",
   "execution_count": 21,
   "id": "bd939af2",
   "metadata": {},
   "outputs": [],
   "source": [
    "def CalculateCenterline(imgIn, scale):\n",
    "\n",
    "    crs = imgIn.projection().crs().getInfo()\n",
    "\n",
    "    distM = CalcDistanceMap(imgIn, 256, scale).reproject(crs = crs, scale = scale)\n",
    "    gradM = CalcGradientMap(distM, 2, scale).reproject(crs = crs, scale = scale)\n",
    "    cl1 = CalcOnePixelWidthCenterline(imgIn, gradM, 0.9).reproject(crs = crs, scale = scale)\n",
    "    cl1Cleaned1 = CleanCenterline(cl1, 300, True).reproject(crs = crs, scale = scale)\n",
    "    cl1px = CleanCenterline(cl1Cleaned1, 300, False).reproject(crs = crs, scale = scale)\n",
    "    return(cl1px)"
   ]
  },
  {
   "cell_type": "code",
   "execution_count": 22,
   "id": "77f90093",
   "metadata": {},
   "outputs": [],
   "source": [
    "imgC = load_data('users/luoyee1997/geeRiver/ltImage/lt', 0, 'Blue', 'Green', 'Red', 'NIR', 'NDVI', 'NDWI', 'Zou')"
   ]
  },
  {
   "cell_type": "code",
   "execution_count": 25,
   "id": "3a84432e",
   "metadata": {},
   "outputs": [],
   "source": [
    "water = classification(imgC, method = 'ModZou')"
   ]
  },
  {
   "cell_type": "code",
   "execution_count": 45,
   "id": "d70323bb",
   "metadata": {},
   "outputs": [],
   "source": [
    "water_close = connect(water, scale=5, radius=3, iterations=5)"
   ]
  },
  {
   "cell_type": "code",
   "execution_count": 118,
   "id": "68243e55",
   "metadata": {},
   "outputs": [],
   "source": [
    "river = noise_removal(water_close, 3)"
   ]
  },
  {
   "cell_type": "code",
   "execution_count": 102,
   "id": "ab011d34",
   "metadata": {},
   "outputs": [],
   "source": [
    "cl = CalculateCenterline(river, 3)"
   ]
  },
  {
   "cell_type": "code",
   "execution_count": 106,
   "id": "55d33a0d",
   "metadata": {},
   "outputs": [],
   "source": [
    "task = ee.batch.Export.image.toAsset(**{\n",
    "    'image': cl.selfMask(),\n",
    "    'description': 'river centerline of Little Talahatchie River',\n",
    "    'scale': 5,\n",
    "    'assetId': 'users/luoyee1997/geeRiver/ltImage/Centerline',\n",
    "    'maxPixels': 1.5e8\n",
    "})\n",
    "task.start()"
   ]
  },
  {
   "cell_type": "code",
   "execution_count": 96,
   "id": "3c29adb3",
   "metadata": {},
   "outputs": [
    {
     "data": {
      "text/plain": [
       "{'type': 'Image',\n",
       " 'bands': [{'id': 'clRaw',\n",
       "   'data_type': {'type': 'PixelType',\n",
       "    'precision': 'int',\n",
       "    'min': -16,\n",
       "    'max': 1},\n",
       "   'dimensions': [11673, 35373],\n",
       "   'origin': [243032, -1256081],\n",
       "   'crs': 'EPSG:26915',\n",
       "   'crs_transform': [3, 0, 0, 0, -3, 0]}]}"
      ]
     },
     "execution_count": 96,
     "metadata": {},
     "output_type": "execute_result"
    }
   ],
   "source": [
    "cl.getInfo()"
   ]
  },
  {
   "cell_type": "code",
   "execution_count": 46,
   "id": "a0438491",
   "metadata": {},
   "outputs": [
    {
     "ename": "EEException",
     "evalue": "Image.focalMin, argument 'kernelType': Invalid type.\nExpected type: String.\nActual type: Integer.\nActual value: 5",
     "output_type": "error",
     "traceback": [
      "\u001b[1;31m---------------------------------------------------------------------------\u001b[0m",
      "\u001b[1;31mHttpError\u001b[0m                                 Traceback (most recent call last)",
      "\u001b[1;32m~\\anaconda3\\lib\\site-packages\\ee\\data.py\u001b[0m in \u001b[0;36m_execute_cloud_call\u001b[1;34m(call, num_retries)\u001b[0m\n\u001b[0;32m    333\u001b[0m   \u001b[1;32mtry\u001b[0m\u001b[1;33m:\u001b[0m\u001b[1;33m\u001b[0m\u001b[1;33m\u001b[0m\u001b[0m\n\u001b[1;32m--> 334\u001b[1;33m     \u001b[1;32mreturn\u001b[0m \u001b[0mcall\u001b[0m\u001b[1;33m.\u001b[0m\u001b[0mexecute\u001b[0m\u001b[1;33m(\u001b[0m\u001b[0mnum_retries\u001b[0m\u001b[1;33m=\u001b[0m\u001b[0mnum_retries\u001b[0m\u001b[1;33m)\u001b[0m\u001b[1;33m\u001b[0m\u001b[1;33m\u001b[0m\u001b[0m\n\u001b[0m\u001b[0;32m    335\u001b[0m   \u001b[1;32mexcept\u001b[0m \u001b[0mgoogleapiclient\u001b[0m\u001b[1;33m.\u001b[0m\u001b[0merrors\u001b[0m\u001b[1;33m.\u001b[0m\u001b[0mHttpError\u001b[0m \u001b[1;32mas\u001b[0m \u001b[0me\u001b[0m\u001b[1;33m:\u001b[0m\u001b[1;33m\u001b[0m\u001b[1;33m\u001b[0m\u001b[0m\n",
      "\u001b[1;32m~\\anaconda3\\lib\\site-packages\\googleapiclient\\_helpers.py\u001b[0m in \u001b[0;36mpositional_wrapper\u001b[1;34m(*args, **kwargs)\u001b[0m\n\u001b[0;32m    133\u001b[0m                     \u001b[0mlogger\u001b[0m\u001b[1;33m.\u001b[0m\u001b[0mwarning\u001b[0m\u001b[1;33m(\u001b[0m\u001b[0mmessage\u001b[0m\u001b[1;33m)\u001b[0m\u001b[1;33m\u001b[0m\u001b[1;33m\u001b[0m\u001b[0m\n\u001b[1;32m--> 134\u001b[1;33m             \u001b[1;32mreturn\u001b[0m \u001b[0mwrapped\u001b[0m\u001b[1;33m(\u001b[0m\u001b[1;33m*\u001b[0m\u001b[0margs\u001b[0m\u001b[1;33m,\u001b[0m \u001b[1;33m**\u001b[0m\u001b[0mkwargs\u001b[0m\u001b[1;33m)\u001b[0m\u001b[1;33m\u001b[0m\u001b[1;33m\u001b[0m\u001b[0m\n\u001b[0m\u001b[0;32m    135\u001b[0m \u001b[1;33m\u001b[0m\u001b[0m\n",
      "\u001b[1;32m~\\anaconda3\\lib\\site-packages\\googleapiclient\\http.py\u001b[0m in \u001b[0;36mexecute\u001b[1;34m(self, http, num_retries)\u001b[0m\n\u001b[0;32m    914\u001b[0m         \u001b[1;32mif\u001b[0m \u001b[0mresp\u001b[0m\u001b[1;33m.\u001b[0m\u001b[0mstatus\u001b[0m \u001b[1;33m>=\u001b[0m \u001b[1;36m300\u001b[0m\u001b[1;33m:\u001b[0m\u001b[1;33m\u001b[0m\u001b[1;33m\u001b[0m\u001b[0m\n\u001b[1;32m--> 915\u001b[1;33m             \u001b[1;32mraise\u001b[0m \u001b[0mHttpError\u001b[0m\u001b[1;33m(\u001b[0m\u001b[0mresp\u001b[0m\u001b[1;33m,\u001b[0m \u001b[0mcontent\u001b[0m\u001b[1;33m,\u001b[0m \u001b[0muri\u001b[0m\u001b[1;33m=\u001b[0m\u001b[0mself\u001b[0m\u001b[1;33m.\u001b[0m\u001b[0muri\u001b[0m\u001b[1;33m)\u001b[0m\u001b[1;33m\u001b[0m\u001b[1;33m\u001b[0m\u001b[0m\n\u001b[0m\u001b[0;32m    916\u001b[0m         \u001b[1;32mreturn\u001b[0m \u001b[0mself\u001b[0m\u001b[1;33m.\u001b[0m\u001b[0mpostproc\u001b[0m\u001b[1;33m(\u001b[0m\u001b[0mresp\u001b[0m\u001b[1;33m,\u001b[0m \u001b[0mcontent\u001b[0m\u001b[1;33m)\u001b[0m\u001b[1;33m\u001b[0m\u001b[1;33m\u001b[0m\u001b[0m\n",
      "\u001b[1;31mHttpError\u001b[0m: <HttpError 400 when requesting https://earthengine.googleapis.com/v1alpha/projects/earthengine-legacy/maps?fields=name&alt=json returned \"Image.focalMin, argument 'kernelType': Invalid type.\nExpected type: String.\nActual type: Integer.\nActual value: 5\". Details: \"Image.focalMin, argument 'kernelType': Invalid type.\nExpected type: String.\nActual type: Integer.\nActual value: 5\">",
      "\nDuring handling of the above exception, another exception occurred:\n",
      "\u001b[1;31mEEException\u001b[0m                               Traceback (most recent call last)",
      "\u001b[1;32m~\\AppData\\Local\\Temp/ipykernel_2428/3361782467.py\u001b[0m in \u001b[0;36m<module>\u001b[1;34m\u001b[0m\n\u001b[0;32m      8\u001b[0m \u001b[0mm1\u001b[0m\u001b[1;33m.\u001b[0m\u001b[0madd_ee_layer\u001b[0m\u001b[1;33m(\u001b[0m\u001b[0mimgC\u001b[0m\u001b[1;33m,\u001b[0m \u001b[0mimg_viz_params\u001b[0m\u001b[1;33m,\u001b[0m \u001b[1;34m'img'\u001b[0m\u001b[1;33m)\u001b[0m\u001b[1;33m\u001b[0m\u001b[1;33m\u001b[0m\u001b[0m\n\u001b[0;32m      9\u001b[0m \u001b[0mm1\u001b[0m\u001b[1;33m.\u001b[0m\u001b[0madd_ee_layer\u001b[0m\u001b[1;33m(\u001b[0m\u001b[0mimgC\u001b[0m\u001b[1;33m.\u001b[0m\u001b[0mselect\u001b[0m\u001b[1;33m(\u001b[0m\u001b[1;34m'NDVI'\u001b[0m\u001b[1;33m)\u001b[0m\u001b[1;33m,\u001b[0m \u001b[1;32mNone\u001b[0m\u001b[1;33m,\u001b[0m \u001b[1;34m'ndvi'\u001b[0m\u001b[1;33m)\u001b[0m\u001b[1;33m\u001b[0m\u001b[1;33m\u001b[0m\u001b[0m\n\u001b[1;32m---> 10\u001b[1;33m \u001b[0mm1\u001b[0m\u001b[1;33m.\u001b[0m\u001b[0madd_ee_layer\u001b[0m\u001b[1;33m(\u001b[0m\u001b[0mwater_close\u001b[0m\u001b[1;33m.\u001b[0m\u001b[0mselfMask\u001b[0m\u001b[1;33m(\u001b[0m\u001b[1;33m)\u001b[0m\u001b[1;33m,\u001b[0m \u001b[1;32mNone\u001b[0m\u001b[1;33m,\u001b[0m \u001b[1;34m'Close'\u001b[0m\u001b[1;33m)\u001b[0m\u001b[1;33m\u001b[0m\u001b[1;33m\u001b[0m\u001b[0m\n\u001b[0m\u001b[0;32m     11\u001b[0m \u001b[1;31m#m1.add_ee_layer(water.selfMask(), {'palette': 'red'}, 'Zou')\u001b[0m\u001b[1;33m\u001b[0m\u001b[1;33m\u001b[0m\u001b[1;33m\u001b[0m\u001b[0m\n\u001b[0;32m     12\u001b[0m \u001b[1;31m#m1.add_ee_layer(cl.selfMask(), {'palette': 'blue'}, 'cl')\u001b[0m\u001b[1;33m\u001b[0m\u001b[1;33m\u001b[0m\u001b[1;33m\u001b[0m\u001b[0m\n",
      "\u001b[1;32m~\\AppData\\Local\\Temp/ipykernel_2428/4130523832.py\u001b[0m in \u001b[0;36madd_ee_layer\u001b[1;34m(self, ee_image_object, vis_params, name)\u001b[0m\n\u001b[0;32m      1\u001b[0m \u001b[1;31m# def add_ee_layer\u001b[0m\u001b[1;33m\u001b[0m\u001b[1;33m\u001b[0m\u001b[1;33m\u001b[0m\u001b[0m\n\u001b[0;32m      2\u001b[0m \u001b[1;32mdef\u001b[0m \u001b[0madd_ee_layer\u001b[0m\u001b[1;33m(\u001b[0m\u001b[0mself\u001b[0m\u001b[1;33m,\u001b[0m \u001b[0mee_image_object\u001b[0m\u001b[1;33m,\u001b[0m \u001b[0mvis_params\u001b[0m\u001b[1;33m,\u001b[0m \u001b[0mname\u001b[0m\u001b[1;33m)\u001b[0m\u001b[1;33m:\u001b[0m\u001b[1;33m\u001b[0m\u001b[1;33m\u001b[0m\u001b[0m\n\u001b[1;32m----> 3\u001b[1;33m   \u001b[0mmap_id_dict\u001b[0m \u001b[1;33m=\u001b[0m \u001b[0mee\u001b[0m\u001b[1;33m.\u001b[0m\u001b[0mImage\u001b[0m\u001b[1;33m(\u001b[0m\u001b[0mee_image_object\u001b[0m\u001b[1;33m)\u001b[0m\u001b[1;33m.\u001b[0m\u001b[0mgetMapId\u001b[0m\u001b[1;33m(\u001b[0m\u001b[0mvis_params\u001b[0m\u001b[1;33m)\u001b[0m\u001b[1;33m\u001b[0m\u001b[1;33m\u001b[0m\u001b[0m\n\u001b[0m\u001b[0;32m      4\u001b[0m   folium.raster_layers.TileLayer(\n\u001b[0;32m      5\u001b[0m       \u001b[0mtiles\u001b[0m\u001b[1;33m=\u001b[0m\u001b[0mmap_id_dict\u001b[0m\u001b[1;33m[\u001b[0m\u001b[1;34m'tile_fetcher'\u001b[0m\u001b[1;33m]\u001b[0m\u001b[1;33m.\u001b[0m\u001b[0murl_format\u001b[0m\u001b[1;33m,\u001b[0m\u001b[1;33m\u001b[0m\u001b[1;33m\u001b[0m\u001b[0m\n",
      "\u001b[1;32m~\\anaconda3\\lib\\site-packages\\ee\\image.py\u001b[0m in \u001b[0;36mgetMapId\u001b[1;34m(self, vis_params)\u001b[0m\n\u001b[0;32m    129\u001b[0m     \u001b[0mvis_image\u001b[0m\u001b[1;33m,\u001b[0m \u001b[0mrequest\u001b[0m \u001b[1;33m=\u001b[0m \u001b[0mself\u001b[0m\u001b[1;33m.\u001b[0m\u001b[0m_apply_visualization\u001b[0m\u001b[1;33m(\u001b[0m\u001b[0mvis_params\u001b[0m\u001b[1;33m)\u001b[0m\u001b[1;33m\u001b[0m\u001b[1;33m\u001b[0m\u001b[0m\n\u001b[0;32m    130\u001b[0m     \u001b[0mrequest\u001b[0m\u001b[1;33m[\u001b[0m\u001b[1;34m'image'\u001b[0m\u001b[1;33m]\u001b[0m \u001b[1;33m=\u001b[0m \u001b[0mvis_image\u001b[0m\u001b[1;33m\u001b[0m\u001b[1;33m\u001b[0m\u001b[0m\n\u001b[1;32m--> 131\u001b[1;33m     \u001b[0mresponse\u001b[0m \u001b[1;33m=\u001b[0m \u001b[0mdata\u001b[0m\u001b[1;33m.\u001b[0m\u001b[0mgetMapId\u001b[0m\u001b[1;33m(\u001b[0m\u001b[0mrequest\u001b[0m\u001b[1;33m)\u001b[0m\u001b[1;33m\u001b[0m\u001b[1;33m\u001b[0m\u001b[0m\n\u001b[0m\u001b[0;32m    132\u001b[0m     \u001b[0mresponse\u001b[0m\u001b[1;33m[\u001b[0m\u001b[1;34m'image'\u001b[0m\u001b[1;33m]\u001b[0m \u001b[1;33m=\u001b[0m \u001b[0mself\u001b[0m\u001b[1;33m\u001b[0m\u001b[1;33m\u001b[0m\u001b[0m\n\u001b[0;32m    133\u001b[0m     \u001b[1;32mreturn\u001b[0m \u001b[0mresponse\u001b[0m\u001b[1;33m\u001b[0m\u001b[1;33m\u001b[0m\u001b[0m\n",
      "\u001b[1;32m~\\anaconda3\\lib\\site-packages\\ee\\data.py\u001b[0m in \u001b[0;36mgetMapId\u001b[1;34m(params)\u001b[0m\n\u001b[0;32m    571\u001b[0m   \u001b[1;31m# Make it return only the name field, as otherwise it echoes the entire\u001b[0m\u001b[1;33m\u001b[0m\u001b[1;33m\u001b[0m\u001b[1;33m\u001b[0m\u001b[0m\n\u001b[0;32m    572\u001b[0m   \u001b[1;31m# request, which might be large.\u001b[0m\u001b[1;33m\u001b[0m\u001b[1;33m\u001b[0m\u001b[1;33m\u001b[0m\u001b[0m\n\u001b[1;32m--> 573\u001b[1;33m   result = _execute_cloud_call(\n\u001b[0m\u001b[0;32m    574\u001b[0m       _get_cloud_api_resource().projects().maps().create(\n\u001b[0;32m    575\u001b[0m           parent=_get_projects_path(), fields='name', body=request))\n",
      "\u001b[1;32m~\\anaconda3\\lib\\site-packages\\ee\\data.py\u001b[0m in \u001b[0;36m_execute_cloud_call\u001b[1;34m(call, num_retries)\u001b[0m\n\u001b[0;32m    334\u001b[0m     \u001b[1;32mreturn\u001b[0m \u001b[0mcall\u001b[0m\u001b[1;33m.\u001b[0m\u001b[0mexecute\u001b[0m\u001b[1;33m(\u001b[0m\u001b[0mnum_retries\u001b[0m\u001b[1;33m=\u001b[0m\u001b[0mnum_retries\u001b[0m\u001b[1;33m)\u001b[0m\u001b[1;33m\u001b[0m\u001b[1;33m\u001b[0m\u001b[0m\n\u001b[0;32m    335\u001b[0m   \u001b[1;32mexcept\u001b[0m \u001b[0mgoogleapiclient\u001b[0m\u001b[1;33m.\u001b[0m\u001b[0merrors\u001b[0m\u001b[1;33m.\u001b[0m\u001b[0mHttpError\u001b[0m \u001b[1;32mas\u001b[0m \u001b[0me\u001b[0m\u001b[1;33m:\u001b[0m\u001b[1;33m\u001b[0m\u001b[1;33m\u001b[0m\u001b[0m\n\u001b[1;32m--> 336\u001b[1;33m     \u001b[1;32mraise\u001b[0m \u001b[0m_translate_cloud_exception\u001b[0m\u001b[1;33m(\u001b[0m\u001b[0me\u001b[0m\u001b[1;33m)\u001b[0m\u001b[1;33m\u001b[0m\u001b[1;33m\u001b[0m\u001b[0m\n\u001b[0m\u001b[0;32m    337\u001b[0m \u001b[1;33m\u001b[0m\u001b[0m\n\u001b[0;32m    338\u001b[0m \u001b[1;33m\u001b[0m\u001b[0m\n",
      "\u001b[1;31mEEException\u001b[0m: Image.focalMin, argument 'kernelType': Invalid type.\nExpected type: String.\nActual type: Integer.\nActual value: 5"
     ]
    }
   ],
   "source": [
    "img_viz_params = {\n",
    "    'bands': ['Red', 'Green', 'Blue'],\n",
    "    'min': 0,\n",
    "    'max': 0.4,\n",
    "    'gamma': 1\n",
    "}\n",
    "m1 = folium.Map(location = [33.2, -90.7], zoom_start = 10)\n",
    "m1.add_ee_layer(imgC, img_viz_params, 'img')\n",
    "m1.add_ee_layer(imgC.select('NDVI'), None, 'ndvi')\n",
    "m1.add_ee_layer(water_close.selfMask(), None, 'Close')\n",
    "#m1.add_ee_layer(water.selfMask(), {'palette': 'red'}, 'Zou')\n",
    "#m1.add_ee_layer(cl.selfMask(), {'palette': 'blue'}, 'cl')\n",
    "#m1.add_ee_layer(imgC.select('Zou'), None, 'Zou')\n",
    "m1"
   ]
  },
  {
   "cell_type": "code",
   "execution_count": null,
   "id": "91590043",
   "metadata": {},
   "outputs": [],
   "source": []
  }
 ],
 "metadata": {
  "kernelspec": {
   "display_name": "Python 3 (ipykernel)",
   "language": "python",
   "name": "python3"
  },
  "language_info": {
   "codemirror_mode": {
    "name": "ipython",
    "version": 3
   },
   "file_extension": ".py",
   "mimetype": "text/x-python",
   "name": "python",
   "nbconvert_exporter": "python",
   "pygments_lexer": "ipython3",
   "version": "3.8.8"
  },
  "toc": {
   "base_numbering": 1,
   "nav_menu": {},
   "number_sections": true,
   "sideBar": true,
   "skip_h1_title": false,
   "title_cell": "Table of Contents",
   "title_sidebar": "Contents",
   "toc_cell": false,
   "toc_position": {},
   "toc_section_display": true,
   "toc_window_display": false
  }
 },
 "nbformat": 4,
 "nbformat_minor": 5
}
