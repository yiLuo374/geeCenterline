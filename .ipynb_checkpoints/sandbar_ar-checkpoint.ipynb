{
 "cells": [
  {
   "cell_type": "code",
   "execution_count": 1,
   "id": "1a1a1039-3b68-4c5a-bcd7-3748a6407de1",
   "metadata": {},
   "outputs": [],
   "source": [
    "import ee\n",
    "import geemap\n",
    "from geeRiverCL import *\n",
    "import numpy as np\n",
    "geemap.ee_initialize()"
   ]
  },
  {
   "cell_type": "code",
   "execution_count": 2,
   "id": "3d46467f-5c7e-472b-8206-7932b3d0e5af",
   "metadata": {},
   "outputs": [],
   "source": [
    "bandnames = ['Red', 'Green', 'Blue', 'NIR', 'SWIR1']\n",
    "img87 = ee.Image('LANDSAT/LT05/C02/T1_L2/LT05_023037_19871015').select(['SR_B3', 'SR_B2', 'SR_B1', 'SR_B4', 'SR_B5']).multiply(0.0000275).add(-0.2).rename(bandnames)\n",
    "img01 = ee.Image('LANDSAT/LE07/C01/T1_TOA/LE07_023037_20011029').select(['B3', 'B2', 'B1', 'B4', 'B5']).rename(bandnames)\n",
    "img10 = ee.Image('LANDSAT/LT05/C01/T1_TOA/LT05_023037_20101014').select(['B3', 'B2', 'B1', 'B4', 'B5']).rename(bandnames)\n",
    "img15 = ee.Image('LANDSAT/LC08/C01/T1_TOA/LC08_023037_20151113').select(['B4', 'B3', 'B2', 'B5', 'B6']).rename(bandnames)\n",
    "img17 = ee.Image('LANDSAT/LC08/C01/T1_TOA/LC08_023037_20171017').select(['B4', 'B3', 'B2', 'B5', 'B6']).rename(bandnames)\n",
    "img20 = ee.Image('LANDSAT/LC08/C02/T1_L2/LC08_023037_20201126').select(['SR_B4', 'SR_B3', 'SR_B2', 'SR_B5', 'SR_B6']).multiply(0.0000275).add(-0.2).rename(bandnames)"
   ]
  },
  {
   "cell_type": "code",
   "execution_count": 3,
   "id": "6df65ea1-9eb6-41c5-b054-ac292aa0011a",
   "metadata": {},
   "outputs": [],
   "source": [
    "roi = ee.FeatureCollection(\"users/luoyee1997/geeRiver/Arkansas/roi\").geometry()"
   ]
  },
  {
   "cell_type": "code",
   "execution_count": 4,
   "id": "4f290a92-0576-4fe9-9dad-e7bb014538c6",
   "metadata": {},
   "outputs": [],
   "source": [
    "sclLS = 30\n",
    "class87rf = classification1(img87, sclLS, method='RF')\n",
    "class87md = classification(img87, sclLS, method='minDis')\n",
    "class20rf = classification1(img20, sclLS, method='RF')\n",
    "class20md = classification(img20, sclLS, method='minDis')"
   ]
  },
  {
   "cell_type": "code",
   "execution_count": 9,
   "id": "4d7f172f-87a9-4485-b4fa-199522555f7a",
   "metadata": {},
   "outputs": [],
   "source": [
    "Map = geemap.Map()"
   ]
  },
  {
   "cell_type": "code",
   "execution_count": 10,
   "id": "95e152bb-28ac-4fa2-9e9c-76b7a61dfa4c",
   "metadata": {},
   "outputs": [],
   "source": [
    "trueColor321Vis = {\n",
    "  'gamma': [0.95, 1.1, 1]\n",
    "};\n",
    "Map.addLayer(img87.clip(roi), trueColor321Vis, 'img87')"
   ]
  },
  {
   "cell_type": "code",
   "execution_count": 11,
   "id": "8482e2a2-5559-4bff-9120-11e52dc1d514",
   "metadata": {},
   "outputs": [],
   "source": [
    "trueColor321Vis = {\n",
    "  'gamma': [0.95*1.5, 1.1*1.5, 1*1.5]\n",
    "};\n",
    "Map.addLayer(img20.clip(roi), trueColor321Vis, 'img20')"
   ]
  },
  {
   "cell_type": "code",
   "execution_count": 11,
   "id": "096b1799-cc71-4f06-b0b5-fdd7f24b0830",
   "metadata": {},
   "outputs": [
    {
     "ename": "NameError",
     "evalue": "name 'class87md' is not defined",
     "output_type": "error",
     "traceback": [
      "\u001b[1;31m---------------------------------------------------------------------------\u001b[0m",
      "\u001b[1;31mNameError\u001b[0m                                 Traceback (most recent call last)",
      "Input \u001b[1;32mIn [11]\u001b[0m, in \u001b[0;36m<cell line: 1>\u001b[1;34m()\u001b[0m\n\u001b[1;32m----> 1\u001b[0m Map\u001b[38;5;241m.\u001b[39maddLayer(\u001b[43mclass87md\u001b[49m\u001b[38;5;241m.\u001b[39mclip(roi), {\u001b[38;5;124m'\u001b[39m\u001b[38;5;124mmin\u001b[39m\u001b[38;5;124m'\u001b[39m:\u001b[38;5;241m1\u001b[39m, \u001b[38;5;124m'\u001b[39m\u001b[38;5;124mmax\u001b[39m\u001b[38;5;124m'\u001b[39m:\u001b[38;5;241m3\u001b[39m, \u001b[38;5;124m'\u001b[39m\u001b[38;5;124mpalette\u001b[39m\u001b[38;5;124m'\u001b[39m: [\u001b[38;5;124m'\u001b[39m\u001b[38;5;124m#0080FF\u001b[39m\u001b[38;5;124m'\u001b[39m, \u001b[38;5;124m'\u001b[39m\u001b[38;5;124mred\u001b[39m\u001b[38;5;124m'\u001b[39m, \u001b[38;5;124m'\u001b[39m\u001b[38;5;124mgreen\u001b[39m\u001b[38;5;124m'\u001b[39m]}, \u001b[38;5;124m'\u001b[39m\u001b[38;5;124mclass87md\u001b[39m\u001b[38;5;124m'\u001b[39m)\n",
      "\u001b[1;31mNameError\u001b[0m: name 'class87md' is not defined"
     ]
    }
   ],
   "source": [
    "Map.addLayer(class87md.clip(roi), {'min':1, 'max':3, 'palette': ['#0080FF', 'red', 'green']}, 'class87md')"
   ]
  },
  {
   "cell_type": "code",
   "execution_count": 9,
   "id": "b91764c8",
   "metadata": {},
   "outputs": [],
   "source": [
    "Map.addLayer(class87rf.clip(roi), {'min':1, 'max':3, 'palette': ['#0080FF', 'red', 'green']}, 'class87rf')"
   ]
  },
  {
   "cell_type": "code",
   "execution_count": 10,
   "id": "50a5b2fe-09c0-4e8f-b921-1b5a44152907",
   "metadata": {},
   "outputs": [],
   "source": [
    "Map.addLayer(class20md.clip(roi), {'min':1, 'max':3, 'palette': ['#0080FF', 'red', 'green']}, 'class20md')"
   ]
  },
  {
   "cell_type": "code",
   "execution_count": 10,
   "id": "8744e50a-e01d-4088-9aee-41389fed2c79",
   "metadata": {},
   "outputs": [],
   "source": [
    "Map.addLayer(class20rf.clip(roi), {'min':1, 'max':3, 'palette': ['#0080FF', 'red', 'green']}, 'class20rf')"
   ]
  },
  {
   "cell_type": "code",
   "execution_count": 17,
   "id": "37747f3d",
   "metadata": {},
   "outputs": [],
   "source": [
    "Map.addLayer(class20rf.clip(roi).eq(2).selfMask(), {'palette': ['red']}, 'class20rf')"
   ]
  },
  {
   "cell_type": "code",
   "execution_count": 18,
   "id": "c28dfc50",
   "metadata": {},
   "outputs": [],
   "source": [
    "Map.addLayer(class20rf2.clip(roi).eq(2).selfMask(), {'palette': ['yellow']}, 'class20rf1')"
   ]
  },
  {
   "cell_type": "code",
   "execution_count": 17,
   "id": "df249e41",
   "metadata": {},
   "outputs": [],
   "source": [
    "ndvi20 = img20.normalizedDifference(['NIR', 'Red']).rename('NDVI')\n",
    "evi20 = Evi(img20).rename('EVI')\n",
    "ndwi20 = img20.normalizedDifference(['Green', 'NIR']).rename('NDWI')"
   ]
  },
  {
   "cell_type": "code",
   "execution_count": 20,
   "id": "695c593e",
   "metadata": {},
   "outputs": [],
   "source": [
    "Map.addLayer(ndvi20.clip(roi).lt(0.2).And(ndvi20.gt(0.1)).selfMask(), {}, 'ndvi20')"
   ]
  },
  {
   "cell_type": "code",
   "execution_count": 19,
   "id": "e81d1c95",
   "metadata": {},
   "outputs": [],
   "source": [
    "Map.addLayer(ndvi20.lt(0).clip(roi).selfMask(), {'palette': 'blue'}, 'ndvi')"
   ]
  },
  {
   "cell_type": "code",
   "execution_count": 13,
   "id": "704d13c0",
   "metadata": {},
   "outputs": [],
   "source": [
    "Map.addLayer(ndwi20.clip(roi).gt(0).selfMask(), {}, 'nd2i20')"
   ]
  },
  {
   "cell_type": "code",
   "execution_count": 17,
   "id": "e269ad60",
   "metadata": {},
   "outputs": [],
   "source": [
    "Map.addLayer(evi20.clip(roi).lt(0.2).selfMask(), {}, 'evi20')"
   ]
  },
  {
   "cell_type": "code",
   "execution_count": 11,
   "id": "25543ce5-13f3-444e-a7ba-d3c9d7cfdd40",
   "metadata": {},
   "outputs": [
    {
     "data": {
      "application/vnd.jupyter.widget-view+json": {
       "model_id": "95cabb518f454a478fbe499cb6005cfc",
       "version_major": 2,
       "version_minor": 0
      },
      "text/plain": [
       "Map(center=[20, 0], controls=(WidgetControl(options=['position', 'transparent_bg'], widget=HBox(children=(Togg…"
      ]
     },
     "metadata": {},
     "output_type": "display_data"
    }
   ],
   "source": [
    "Map"
   ]
  },
  {
   "cell_type": "code",
   "execution_count": null,
   "id": "ae58fe22-63f8-48ef-9c4e-6c64f33b09d8",
   "metadata": {},
   "outputs": [],
   "source": []
  }
 ],
 "metadata": {
  "kernelspec": {
   "display_name": "Python 3 (ipykernel)",
   "language": "python",
   "name": "python3"
  },
  "language_info": {
   "codemirror_mode": {
    "name": "ipython",
    "version": 3
   },
   "file_extension": ".py",
   "mimetype": "text/x-python",
   "name": "python",
   "nbconvert_exporter": "python",
   "pygments_lexer": "ipython3",
   "version": "3.8.8"
  },
  "toc": {
   "base_numbering": 1,
   "nav_menu": {},
   "number_sections": true,
   "sideBar": true,
   "skip_h1_title": false,
   "title_cell": "Table of Contents",
   "title_sidebar": "Contents",
   "toc_cell": false,
   "toc_position": {},
   "toc_section_display": true,
   "toc_window_display": false
  }
 },
 "nbformat": 4,
 "nbformat_minor": 5
}
