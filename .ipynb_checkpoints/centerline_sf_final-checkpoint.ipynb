{
 "cells": [
  {
   "cell_type": "code",
   "execution_count": 1,
   "id": "e6a89bce-ee6b-40fd-91ee-af5f4438c752",
   "metadata": {},
   "outputs": [],
   "source": [
    "import ee\n",
    "import geemap\n",
    "from geeRiverCL import *\n",
    "import numpy as np\n",
    "geemap.ee_initialize()"
   ]
  },
  {
   "cell_type": "code",
   "execution_count": 2,
   "id": "4f3f184b-fb6e-4237-89e0-fae985f44e8c",
   "metadata": {},
   "outputs": [],
   "source": [
    "# roi\n",
    "ltb = ee.FeatureCollection(\"users/luoyee1997/SF\").geometry()\n",
    "# Planet Scope\n",
    "imgPS = load_image('users/luoyee1997/geeRiver/SF/PlanetSR', ['b1', 'b2', 'b3', 'b4'], ['Blue', 'Green', 'Red', 'NIR']).clip(ltb).multiply(0.0001)\n",
    "crsPS = imgPS.projection().crs().getInfo()\n",
    "sclPS = 3"
   ]
  },
  {
   "cell_type": "code",
   "execution_count": 3,
   "id": "c69558bf-7020-477f-b190-906446f3e095",
   "metadata": {},
   "outputs": [],
   "source": [
    "Map = geemap.Map()"
   ]
  },
  {
   "cell_type": "code",
   "execution_count": 4,
   "id": "5bbed121-08d2-4fa0-8534-6a42c1279762",
   "metadata": {},
   "outputs": [],
   "source": [
    "vis = {\n",
    "    'bands': ['Red', 'Green', 'Blue'],\n",
    "    'min': 0,\n",
    "    'max': 0.7231,\n",
    "    'gamma': 2\n",
    "}\n",
    "Map.centerObject(imgPS, 12)\n",
    "Map.addLayer(imgPS, vis, 'Landsat')"
   ]
  },
  {
   "cell_type": "code",
   "execution_count": 5,
   "id": "7e474765-75f6-41df-9716-f331c75537c3",
   "metadata": {},
   "outputs": [],
   "source": [
    "# classification\n",
    "classPS = classification1(imgPS, 3, method='RF')"
   ]
  },
  {
   "cell_type": "code",
   "execution_count": 5,
   "id": "ed2386e3",
   "metadata": {},
   "outputs": [],
   "source": [
    "# classification\n",
    "classPS = classification1(imgPS, 3, method='minDis')"
   ]
  },
  {
   "cell_type": "code",
   "execution_count": 5,
   "id": "5e3139c8",
   "metadata": {},
   "outputs": [],
   "source": [
    "# classification\n",
    "classPS = classification1(imgPS, 3, method='RF')"
   ]
  },
  {
   "cell_type": "raw",
   "id": "e8f9bb9f",
   "metadata": {},
   "source": [
    "# classification\n",
    "classPS1 = classification1(imgPS, 3, method='RF')"
   ]
  },
  {
   "cell_type": "raw",
   "id": "2e35ec56",
   "metadata": {},
   "source": [
    "# classification\n",
    "classPS2 = classification2(imgPS, 3, method='RF')"
   ]
  },
  {
   "cell_type": "code",
   "execution_count": 6,
   "id": "07a8fc24-57b2-4c92-85ad-6afa0b26b6a1",
   "metadata": {},
   "outputs": [],
   "source": [
    "Map.addLayer(classPS, {'min':1, 'max':3, 'palette': ['#0080FF', 'red', 'green']}, 'classPS')"
   ]
  },
  {
   "cell_type": "raw",
   "id": "412c9bf8",
   "metadata": {},
   "source": [
    "Map.addLayer(classPS1, {'min':1, 'max':3, 'palette': ['#0080FF', 'red', 'green']}, 'classPS1')"
   ]
  },
  {
   "cell_type": "raw",
   "id": "494acc21",
   "metadata": {},
   "source": [
    "Map.addLayer(classPS2, {'min':1, 'max':3, 'palette': ['#0080FF', 'red', 'green']}, 'classPS2')"
   ]
  },
  {
   "cell_type": "code",
   "execution_count": 9,
   "id": "3aab5b65",
   "metadata": {},
   "outputs": [],
   "source": [
    "ndvi = imgPS.normalizedDifference(['NIR', 'Red']).rename('NDVI')\n",
    "ndwi = imgPS.normalizedDifference(['Green', 'NIR']).rename('NDWI')\n",
    "evi = Evi(imgPS).rename('EVI')"
   ]
  },
  {
   "cell_type": "code",
   "execution_count": 19,
   "id": "26161918",
   "metadata": {},
   "outputs": [],
   "source": [
    "Map.addLayer(ndvi.lt(0.2).selfMask(), {}, 'ndvi')"
   ]
  },
  {
   "cell_type": "code",
   "execution_count": 17,
   "id": "918aa9aa",
   "metadata": {},
   "outputs": [],
   "source": [
    "Map.addLayer(evi.lt(0).selfMask(), {}, 'evi')"
   ]
  },
  {
   "cell_type": "code",
   "execution_count": 14,
   "id": "01be5ffa",
   "metadata": {},
   "outputs": [],
   "source": [
    "Map.addLayer(ndvi.lt(0.3).And(ndvi.gt(0.25)).And(evi.lt(0.3)).selfMask(), {}, 'sand')"
   ]
  },
  {
   "cell_type": "code",
   "execution_count": 8,
   "id": "fd984f07",
   "metadata": {},
   "outputs": [
    {
     "data": {
      "application/vnd.jupyter.widget-view+json": {
       "model_id": "0e2ba404dbad4decbbbb9b75f2f6d47a",
       "version_major": 2,
       "version_minor": 0
      },
      "text/plain": [
       "Map(center=[33.19408632446534, -90.67425695260197], controls=(WidgetControl(options=['position', 'transparent_…"
      ]
     },
     "metadata": {},
     "output_type": "display_data"
    }
   ],
   "source": [
    "Map"
   ]
  },
  {
   "cell_type": "code",
   "execution_count": 7,
   "id": "fece321c-f208-461e-95da-fd9da2ccaaad",
   "metadata": {},
   "outputs": [],
   "source": [
    "# obtain river masks\n",
    "waterPS = classPS.eq(1)\n",
    "waterPS2 = close(waterPS, 3, radius=3)\n",
    "riverPS = noise_removal(waterPS2, 3, 1000, 4)"
   ]
  },
  {
   "cell_type": "code",
   "execution_count": 8,
   "id": "0b0c09c5-1225-436d-94f4-e36527898b73",
   "metadata": {},
   "outputs": [],
   "source": [
    "# fill holes of river masks\n",
    "notRiver = riverPS.unmask().Not()\n",
    "riverPS1 = noise_removal(notRiver, 3, 50, 4)\n",
    "riverPS2 = riverPS1.unmask().Not()"
   ]
  },
  {
   "cell_type": "code",
   "execution_count": 9,
   "id": "4db8afec",
   "metadata": {},
   "outputs": [],
   "source": [
    "Map.addLayer(riverPS2.selfMask().reproject(crs = crsPS, scale = sclPS), {}, 'river')"
   ]
  },
  {
   "cell_type": "code",
   "execution_count": 10,
   "id": "0cd1344e-5ca1-49ac-ae6c-77487df909a9",
   "metadata": {},
   "outputs": [],
   "source": [
    "# calculate centerline\n",
    "cl = CalculateCenterline(riverPS2.unmask(), sclPS, thre=0.9)"
   ]
  },
  {
   "cell_type": "code",
   "execution_count": 11,
   "id": "e671322d-b038-42a9-925e-dd823b31ce47",
   "metadata": {},
   "outputs": [],
   "source": [
    "# trim unwanted branches\n",
    "trimed = trim_centerline(cl, sclPS, 5).selfMask()"
   ]
  },
  {
   "cell_type": "raw",
   "id": "d6b913ac-c97c-40c3-a834-59dcc4e5c929",
   "metadata": {},
   "source": [
    "task = ee.batch.Export.image.toAsset(**{\n",
    "    'image': trimed,\n",
    "    'description': 'river_centerline',\n",
    "    'assetId': 'users/luoyee1997/geeRiver/SF/final_river_centerline1',\n",
    "    'scale': 3,\n",
    "    'maxPixels': 6e8,\n",
    "  'region': ltb\n",
    "})\n",
    "task.start()"
   ]
  },
  {
   "cell_type": "code",
   "execution_count": 12,
   "id": "02b3c470-9ff2-46ca-9493-211fa80360b7",
   "metadata": {},
   "outputs": [],
   "source": [
    "Map = geemap.Map()"
   ]
  },
  {
   "cell_type": "code",
   "execution_count": 13,
   "id": "da12e448-d70b-46e1-a28d-fd6d6dc93934",
   "metadata": {},
   "outputs": [],
   "source": [
    "Map.addLayer(trimed.reproject(crs = crsPS, scale = sclPS), {'palette': ['blue']}, 'trimed')"
   ]
  },
  {
   "cell_type": "code",
   "execution_count": 16,
   "id": "c204fbdb",
   "metadata": {},
   "outputs": [],
   "source": [
    "Map.addLayer(cl.reproject(crs = crsPS, scale = sclPS), {'palette': ['blue']}, 'cl')"
   ]
  },
  {
   "cell_type": "code",
   "execution_count": 14,
   "id": "acdec001-dfa2-4516-9937-50aa74938ba7",
   "metadata": {},
   "outputs": [
    {
     "data": {
      "application/vnd.jupyter.widget-view+json": {
       "model_id": "2fdb44aa26064de8bbc28171233134e5",
       "version_major": 2,
       "version_minor": 0
      },
      "text/plain": [
       "Map(center=[20, 0], controls=(WidgetControl(options=['position', 'transparent_bg'], widget=HBox(children=(Togg…"
      ]
     },
     "metadata": {},
     "output_type": "display_data"
    }
   ],
   "source": [
    "Map"
   ]
  },
  {
   "cell_type": "code",
   "execution_count": null,
   "id": "9f77205e-2b44-4812-af91-6de0f025a760",
   "metadata": {},
   "outputs": [],
   "source": []
  }
 ],
 "metadata": {
  "kernelspec": {
   "display_name": "Python 3 (ipykernel)",
   "language": "python",
   "name": "python3"
  },
  "language_info": {
   "codemirror_mode": {
    "name": "ipython",
    "version": 3
   },
   "file_extension": ".py",
   "mimetype": "text/x-python",
   "name": "python",
   "nbconvert_exporter": "python",
   "pygments_lexer": "ipython3",
   "version": "3.8.8"
  },
  "toc": {
   "base_numbering": 1,
   "nav_menu": {},
   "number_sections": true,
   "sideBar": true,
   "skip_h1_title": false,
   "title_cell": "Table of Contents",
   "title_sidebar": "Contents",
   "toc_cell": false,
   "toc_position": {},
   "toc_section_display": true,
   "toc_window_display": false
  }
 },
 "nbformat": 4,
 "nbformat_minor": 5
}
