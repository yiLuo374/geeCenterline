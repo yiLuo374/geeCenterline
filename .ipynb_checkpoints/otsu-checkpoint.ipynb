{
 "cells": [
  {
   "cell_type": "code",
   "execution_count": 30,
   "metadata": {},
   "outputs": [],
   "source": [
    "import ee\n",
    "import geemap\n",
    "from bqplot import pyplot as plt\n",
    "from bqplot import Bars"
   ]
  },
  {
   "cell_type": "code",
   "execution_count": 139,
   "metadata": {},
   "outputs": [],
   "source": [
    "from geeRiverCL import *"
   ]
  },
  {
   "cell_type": "code",
   "execution_count": 135,
   "metadata": {},
   "outputs": [],
   "source": [
    "import matplotlib.pyplot as plt"
   ]
  },
  {
   "cell_type": "code",
   "execution_count": 31,
   "metadata": {
    "scrolled": false
   },
   "outputs": [
    {
     "data": {
      "application/vnd.jupyter.widget-view+json": {
       "model_id": "729d9847a517422982e8d619f09249bf",
       "version_major": 2,
       "version_minor": 0
      },
      "text/plain": [
       "Map(center=[20, 0], controls=(WidgetControl(options=['position', 'transparent_bg'], widget=HBox(children=(Togg…"
      ]
     },
     "metadata": {},
     "output_type": "display_data"
    }
   ],
   "source": [
    "Map = geemap.Map()"
   ]
  },
  {
   "cell_type": "code",
   "execution_count": 34,
   "metadata": {},
   "outputs": [],
   "source": [
    "# roi\n",
    "ltb = ee.FeatureCollection(\"projects/ee-alpha-luoyee1997/assets/LT\").geometry()\n",
    "# landsat\n",
    "bandnames = ['Red', 'Green', 'Blue', 'NIR', 'SWIR1']\n",
    "#imgLS = load_Landsat(\"projects/ee-alpha-luoyee1997/assets/LT\", '2021-10-01', '2022-09-01').multiply(0.0000275).add(-0.2)\n",
    "imgLS1 = ee.Image('LANDSAT/LC08/C02/T1_L2/LC08_023036_20220625').select(['SR_B4', 'SR_B3', 'SR_B2', 'SR_B5', 'SR_B6']).multiply(0.0000275).add(-0.2).rename(bandnames)\n",
    "imgLS2 = ee.Image('LANDSAT/LC08/C02/T1_L2/LC08_023037_20220625').select(['SR_B4', 'SR_B3', 'SR_B2', 'SR_B5', 'SR_B6']).multiply(0.0000275).add(-0.2).rename(bandnames)\n",
    "imgLS = ee.ImageCollection([imgLS1, imgLS2]).mosaic().clip(ltb)\n",
    "crsLS = imgLS.projection().crs().getInfo()\n",
    "sclLS = 30"
   ]
  },
  {
   "cell_type": "code",
   "execution_count": 140,
   "metadata": {},
   "outputs": [],
   "source": [
    "# planet\n",
    "imgPS = load_image('users/luoyee1997/geeRiver/LT/PlanetSR2', ['b1', 'b2', 'b3', 'b4'], ['Blue', 'Green', 'Red', 'NIR']).multiply(0.0001)\n",
    "crsPS = imgPS.projection().crs().getInfo()\n",
    "sclPS = 3"
   ]
  },
  {
   "cell_type": "code",
   "execution_count": 154,
   "metadata": {},
   "outputs": [],
   "source": [
    "def otsu_hist(img, scale):\n",
    "    histogram = img.reduceRegion(\n",
    "        **{\n",
    "            'reducer': ee.Reducer.histogram(255, 2),\n",
    "            'geometry': ltb,\n",
    "            'scale': scale,\n",
    "            'bestEffort': True,\n",
    "        }\n",
    "    )\n",
    "    return histogram"
   ]
  },
  {
   "cell_type": "code",
   "execution_count": 38,
   "metadata": {},
   "outputs": [
    {
     "name": "stdout",
     "output_type": "stream",
     "text": [
      "threshold -0.20174529666098415\n"
     ]
    }
   ],
   "source": [
    "def otsu(histogram):\n",
    "    counts = ee.Array(ee.Dictionary(histogram).get('histogram'))\n",
    "    means = ee.Array(ee.Dictionary(histogram).get('bucketMeans'))\n",
    "    size = means.length().get([0])\n",
    "    total = counts.reduce(ee.Reducer.sum(), [0]).get([0])\n",
    "    sum = means.multiply(counts).reduce(ee.Reducer.sum(), [0]).get([0])\n",
    "    mean = sum.divide(total)\n",
    "\n",
    "    indices = ee.List.sequence(1, size)\n",
    "\n",
    "    # Compute between sum of squares, where each mean partitions the data.\n",
    "\n",
    "    def func_xxx(i):\n",
    "        aCounts = counts.slice(0, 0, i)\n",
    "        aCount = aCounts.reduce(ee.Reducer.sum(), [0]).get([0])\n",
    "        aMeans = means.slice(0, 0, i)\n",
    "        aMean = (\n",
    "            aMeans.multiply(aCounts)\n",
    "            .reduce(ee.Reducer.sum(), [0])\n",
    "            .get([0])\n",
    "            .divide(aCount)\n",
    "        )\n",
    "        bCount = total.subtract(aCount)\n",
    "        bMean = sum.subtract(aCount.multiply(aMean)).divide(bCount)\n",
    "        return aCount.multiply(aMean.subtract(mean).pow(2)).add(\n",
    "            bCount.multiply(bMean.subtract(mean).pow(2))\n",
    "        )\n",
    "\n",
    "    bss = indices.map(func_xxx)\n",
    "\n",
    "    # Return the mean value corresponding to the maximum BSS.\n",
    "    return means.sort(bss).get([-1])"
   ]
  },
  {
   "cell_type": "code",
   "execution_count": 155,
   "metadata": {},
   "outputs": [],
   "source": [
    "def thr_otsu(img, name, scale):\n",
    "    histogram = otsu_hist(img, scale)\n",
    "    threshold = otsu(histogram.get(name))\n",
    "    return threshold"
   ]
  },
  {
   "cell_type": "code",
   "execution_count": 128,
   "metadata": {},
   "outputs": [],
   "source": [
    "ndvi = imgLS.normalizedDifference(['NIR', 'Red']).rename('NDVI')\n",
    "ndwi = imgLS.normalizedDifference(['Green', 'SWIR1']).rename('NDWI')"
   ]
  },
  {
   "cell_type": "code",
   "execution_count": 171,
   "metadata": {},
   "outputs": [],
   "source": [
    "ndvi_PS = imgPS.normalizedDifference(['NIR', 'Red']).rename('NDVI').clip(ltb)\n",
    "ndwi_PS = imgPS.normalizedDifference(['Green', 'NIR']).rename('NDWI').clip(ltb)"
   ]
  },
  {
   "cell_type": "code",
   "execution_count": 112,
   "metadata": {},
   "outputs": [],
   "source": [
    "thre_ndvi = thr_otsu(ndvi, 'NDVI', sclLS).getInfo()"
   ]
  },
  {
   "cell_type": "code",
   "execution_count": 173,
   "metadata": {},
   "outputs": [],
   "source": [
    "thre_ndvi_PS = thr_otsu(ndvi_PS, 'NDVI', sclPS).getInfo()"
   ]
  },
  {
   "cell_type": "code",
   "execution_count": 129,
   "metadata": {},
   "outputs": [],
   "source": [
    "thre_ndwi = thr_otsu(ndwi, 'NDWI', sclLS).getInfo()"
   ]
  },
  {
   "cell_type": "code",
   "execution_count": 174,
   "metadata": {},
   "outputs": [],
   "source": [
    "thre_ndwi_PS = thr_otsu(ndwi, 'NDWI', sclPS).getInfo()"
   ]
  },
  {
   "cell_type": "code",
   "execution_count": 175,
   "metadata": {},
   "outputs": [
    {
     "data": {
      "text/plain": [
       "-0.5245843179637333"
      ]
     },
     "execution_count": 175,
     "metadata": {},
     "output_type": "execute_result"
    }
   ],
   "source": [
    "thre_ndwi_PS"
   ]
  },
  {
   "cell_type": "code",
   "execution_count": 159,
   "metadata": {},
   "outputs": [
    {
     "data": {
      "text/plain": [
       "-0.20174529666098415"
      ]
     },
     "execution_count": 159,
     "metadata": {},
     "output_type": "execute_result"
    }
   ],
   "source": [
    "thre_ndvi"
   ]
  },
  {
   "cell_type": "code",
   "execution_count": 176,
   "metadata": {},
   "outputs": [
    {
     "data": {
      "text/plain": [
       "-0.09257005554446877"
      ]
     },
     "execution_count": 176,
     "metadata": {},
     "output_type": "execute_result"
    }
   ],
   "source": [
    "thre_ndvi_PS"
   ]
  },
  {
   "cell_type": "code",
   "execution_count": 161,
   "metadata": {
    "scrolled": false
   },
   "outputs": [],
   "source": [
    "Map.addLayer(ndwi.gt(0.5), {}, 'ndwi')\n",
    "#Map.addLayer(ndvi, {}, 'ndvi')"
   ]
  },
  {
   "cell_type": "code",
   "execution_count": 131,
   "metadata": {
    "scrolled": false
   },
   "outputs": [],
   "source": [
    "ndvi_otsu = ndvi.lt(thre_ndvi)\n",
    "ndwi_otsu = ndwi.lt(thre_ndwi)\n",
    "Map.addLayer(ndvi_otsu.selfMask(), {'palette': 'blue'}, 'otsu_ndvi')\n",
    "Map.addLayer(ndwi_otsu.selfMask(), {'palette': 'red'}, 'otsu_ndwi')"
   ]
  },
  {
   "cell_type": "code",
   "execution_count": 182,
   "metadata": {},
   "outputs": [],
   "source": [
    "ndvi_otsu_PS = ndvi_PS.lt(thre_ndvi_PS)\n",
    "ndwi_otsu_PS = ndwi_PS.gt(thre_ndwi_PS)"
   ]
  },
  {
   "cell_type": "code",
   "execution_count": 177,
   "metadata": {},
   "outputs": [],
   "source": [
    "Map.addLayer(ndvi_otsu_PS.selfMask(), {'palette': 'blue'}, 'otsu_ndvi_PS')"
   ]
  },
  {
   "cell_type": "code",
   "execution_count": 183,
   "metadata": {},
   "outputs": [],
   "source": [
    "Map.addLayer(ndwi_otsu_PS.selfMask(), {'palette': 'red'}, 'otsu_ndwi_PS')"
   ]
  },
  {
   "cell_type": "code",
   "execution_count": 172,
   "metadata": {},
   "outputs": [],
   "source": [
    "Map.addLayer(ndvi_PS, {}, 'ndvi_PS')"
   ]
  },
  {
   "cell_type": "code",
   "execution_count": 153,
   "metadata": {},
   "outputs": [],
   "source": [
    "vis = {\n",
    "    'bands': ['Red', 'Green', 'Blue'],\n",
    "    'min': 0,\n",
    "    'max': 0.7042,\n",
    "    'gamma': 2\n",
    "}\n",
    "Map.centerObject(imgPS, 12)\n",
    "Map.addLayer(imgPS, vis, 'PS')"
   ]
  },
  {
   "cell_type": "code",
   "execution_count": 150,
   "metadata": {},
   "outputs": [
    {
     "data": {
      "application/vnd.jupyter.widget-view+json": {
       "model_id": "729d9847a517422982e8d619f09249bf",
       "version_major": 2,
       "version_minor": 0
      },
      "text/plain": [
       "Map(bottom=839329.0000610352, center=[33.817235134357155, -90.1926040649414], controls=(WidgetControl(options=…"
      ]
     },
     "metadata": {},
     "output_type": "display_data"
    }
   ],
   "source": [
    "Map"
   ]
  },
  {
   "cell_type": "code",
   "execution_count": 132,
   "metadata": {},
   "outputs": [],
   "source": [
    "def plot_hist(img, ltb, name, scale=3, alpha=0.8):\n",
    "    my_sample = img.clip(ltb).sample(ltb, numPixels=5000, scale=scale)\n",
    "    l = my_sample.getInfo()['features']\n",
    "    stat = [i['properties'][name] for i in l]\n",
    "    plt.hist(stat, density=True, bins=100, alpha=alpha)"
   ]
  },
  {
   "cell_type": "code",
   "execution_count": 136,
   "metadata": {
    "scrolled": true
   },
   "outputs": [
    {
     "data": {
      "image/png": "[encoded data removed]",
      "text/plain": [
       "<Figure size 432x288 with 1 Axes>"
      ]
     },
     "metadata": {
      "needs_background": "light"
     },
     "output_type": "display_data"
    }
   ],
   "source": [
    "plot_hist(ndwi, ltb, 'NDWI', scale=30)"
   ]
  },
  {
   "cell_type": "code",
   "execution_count": 137,
   "metadata": {
    "scrolled": true
   },
   "outputs": [
    {
     "data": {
      "image/png": "[encoded data removed]",
      "text/plain": [
       "<Figure size 432x288 with 1 Axes>"
      ]
     },
     "metadata": {
      "needs_background": "light"
     },
     "output_type": "display_data"
    }
   ],
   "source": [
    "plot_hist(ndvi, ltb, 'NDVI', scale=30)"
   ]
  },
  {
   "cell_type": "code",
   "execution_count": 178,
   "metadata": {
    "scrolled": true
   },
   "outputs": [
    {
     "data": {
      "image/png": "[encoded data removed]",
      "text/plain": [
       "<Figure size 432x288 with 1 Axes>"
      ]
     },
     "metadata": {
      "needs_background": "light"
     },
     "output_type": "display_data"
    }
   ],
   "source": [
    "plot_hist(ndvi_PS, ltb, 'NDVI', scale=3)"
   ]
  },
  {
   "cell_type": "code",
   "execution_count": 68,
   "metadata": {
    "scrolled": false
   },
   "outputs": [
    {
     "data": {
      "application/vnd.jupyter.widget-view+json": {
       "model_id": "729d9847a517422982e8d619f09249bf",
       "version_major": 2,
       "version_minor": 0
      },
      "text/plain": [
       "Map(bottom=1678200.0, center=[33.82850130951472, -90.22444725036623], controls=(WidgetControl(options=['positi…"
      ]
     },
     "metadata": {},
     "output_type": "display_data"
    }
   ],
   "source": [
    "classA = ndwi.lt(threshold)\n",
    "Map.addLayer(classA.mask(classA), {'palette': 'red'}, 'class A')\n",
    "Map"
   ]
  },
  {
   "cell_type": "code",
   "execution_count": 40,
   "metadata": {},
   "outputs": [],
   "source": [
    "def extract_water(image):\n",
    "    histogram = image.select('N').reduceRegion(\n",
    "        **{\n",
    "            'reducer': ee.Reducer.histogram(255, 2),\n",
    "            'geometry': polygon,\n",
    "            'scale': 10,\n",
    "            'bestEffort': True,\n",
    "        }\n",
    "    )\n",
    "    threshold = otsu(histogram.get('N'))\n",
    "    water = image.select('N').lt(threshold).selfMask()\n",
    "    return water.set({\"threshold\": threshold})"
   ]
  },
  {
   "cell_type": "code",
   "execution_count": 41,
   "metadata": {},
   "outputs": [],
   "source": [
    "water_images = collection.map(extract_water)"
   ]
  },
  {
   "cell_type": "code",
   "execution_count": 42,
   "metadata": {},
   "outputs": [],
   "source": [
    "Map.addLayer(water_images.first(), {\"palette\": \"blue\"}, \"first water\")"
   ]
  },
  {
   "cell_type": "code",
   "execution_count": 43,
   "metadata": {},
   "outputs": [
    {
     "data": {
      "text/plain": [
       "[92.5342142900308,\n",
       " 120.5307939812624,\n",
       " 104.42640609230203,\n",
       " 106.49815208352582,\n",
       " 110.53882034856106,\n",
       " 82.50765815302155,\n",
       " 110.5429699854834,\n",
       " 92.50338843709727,\n",
       " 98.47008547008546]"
      ]
     },
     "execution_count": 43,
     "metadata": {},
     "output_type": "execute_result"
    }
   ],
   "source": [
    "water_images.aggregate_array(\"threshold\").getInfo()"
   ]
  },
  {
   "cell_type": "code",
   "execution_count": null,
   "metadata": {},
   "outputs": [],
   "source": []
  }
 ],
 "metadata": {
  "hide_input": false,
  "kernelspec": {
   "display_name": "Python 3 (ipykernel)",
   "language": "python",
   "name": "python3"
  },
  "language_info": {
   "codemirror_mode": {
    "name": "ipython",
    "version": 3
   },
   "file_extension": ".py",
   "mimetype": "text/x-python",
   "name": "python",
   "nbconvert_exporter": "python",
   "pygments_lexer": "ipython3",
   "version": "3.8.8"
  },
  "toc": {
   "base_numbering": 1,
   "nav_menu": {},
   "number_sections": true,
   "sideBar": true,
   "skip_h1_title": false,
   "title_cell": "Table of Contents",
   "title_sidebar": "Contents",
   "toc_cell": false,
   "toc_position": {},
   "toc_section_display": true,
   "toc_window_display": false
  },
  "varInspector": {
   "cols": {
    "lenName": 16,
    "lenType": 16,
    "lenVar": 40
   },
   "kernels_config": {
    "python": {
     "delete_cmd_postfix": "",
     "delete_cmd_prefix": "del ",
     "library": "var_list.py",
     "varRefreshCmd": "print(var_dic_list())"
    },
    "r": {
     "delete_cmd_postfix": ") ",
     "delete_cmd_prefix": "rm(",
     "library": "var_list.r",
     "varRefreshCmd": "cat(var_dic_list()) "
    }
   },
   "types_to_exclude": [
    "module",
    "function",
    "builtin_function_or_method",
    "instance",
    "_Feature"
   ],
   "window_display": false
  }
 },
 "nbformat": 4,
 "nbformat_minor": 4
}
