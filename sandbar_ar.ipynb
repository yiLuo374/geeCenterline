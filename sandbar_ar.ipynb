{
 "cells": [
  {
   "cell_type": "code",
   "execution_count": 16,
   "id": "1a1a1039-3b68-4c5a-bcd7-3748a6407de1",
   "metadata": {},
   "outputs": [],
   "source": [
    "import ee\n",
    "import geemap\n",
    "from geeRiverCL import *\n",
    "import numpy as np\n",
    "geemap.ee_initialize()"
   ]
  },
  {
   "cell_type": "code",
   "execution_count": 36,
   "id": "a10f0ba4",
   "metadata": {},
   "outputs": [],
   "source": [
    "import matplotlib.pyplot as plt"
   ]
  },
  {
   "cell_type": "code",
   "execution_count": 17,
   "id": "6d3559ca",
   "metadata": {},
   "outputs": [],
   "source": [
    "bandnames = ['Red', 'Green', 'Blue', 'NIR', 'SWIR1']\n",
    "img87 = ee.Image('LANDSAT/LT05/C02/T1_L2/LT05_023037_19871015').select(['SR_B3', 'SR_B2', 'SR_B1', 'SR_B4', 'SR_B5']).multiply(0.0000275).add(-0.2).rename(bandnames)\n",
    "img92 = ee.Image('LANDSAT/LT05/C02/T1_L2/LT05_023037_19921012').select(['SR_B3', 'SR_B2', 'SR_B1', 'SR_B4', 'SR_B5']).multiply(0.0000275).add(-0.2).rename(bandnames)\n",
    "img95 = ee.Image('LANDSAT/LT05/C02/T1_L2/LT05_023037_19951021').select(['SR_B3', 'SR_B2', 'SR_B1', 'SR_B4', 'SR_B5']).multiply(0.0000275).add(-0.2).rename(bandnames)\n",
    "img01 = ee.Image('LANDSAT/LE07/C02/T1_L2/LE07_023037_20011029').select(['SR_B3', 'SR_B2', 'SR_B1', 'SR_B4', 'SR_B5']).multiply(0.0000275).add(-0.2).rename(bandnames)\n",
    "img05 = ee.Image('LANDSAT/LT05/C02/T1_L2/LT05_023037_20051016').select(['SR_B3', 'SR_B2', 'SR_B1', 'SR_B4', 'SR_B5']).multiply(0.0000275).add(-0.2).rename(bandnames)\n",
    "img10 = ee.Image('LANDSAT/LT05/C02/T1_L2/LT05_023037_20101014').select(['SR_B3', 'SR_B2', 'SR_B1', 'SR_B4', 'SR_B5']).multiply(0.0000275).add(-0.2).rename(bandnames)\n",
    "img15 = ee.Image('LANDSAT/LC08/C02/T1_L2/LC08_023037_20151113').select(['SR_B4', 'SR_B3', 'SR_B2', 'SR_B5', 'SR_B6']).multiply(0.0000275).add(-0.2).rename(bandnames)\n",
    "img20 = ee.Image('LANDSAT/LC08/C02/T1_L2/LC08_023037_20201126').select(['SR_B4', 'SR_B3', 'SR_B2', 'SR_B5', 'SR_B6']).multiply(0.0000275).add(-0.2).rename(bandnames)\n"
   ]
  },
  {
   "cell_type": "code",
   "execution_count": 18,
   "id": "6df65ea1-9eb6-41c5-b054-ac292aa0011a",
   "metadata": {},
   "outputs": [],
   "source": [
    "roi = ee.FeatureCollection(\"users/luoyee1997/geeRiver/Arkansas/roi\").geometry()"
   ]
  },
  {
   "cell_type": "code",
   "execution_count": 19,
   "id": "4f290a92-0576-4fe9-9dad-e7bb014538c6",
   "metadata": {},
   "outputs": [],
   "source": [
    "sclLS = 30\n",
    "class87md = classification(img87, sclLS, method='minDis')\n",
    "class92md = classification(img92, sclLS, method='minDis')\n",
    "class95md = classification(img95, sclLS, method='minDis')\n",
    "class01md = classification(img01, sclLS, method='minDis')\n",
    "class05md = classification(img05, sclLS, method='minDis')\n",
    "class10md = classification(img10, sclLS, method='minDis')\n",
    "class15md = classification(img15, sclLS, method='minDis')\n",
    "class20md = classification(img20, sclLS, method='minDis')"
   ]
  },
  {
   "cell_type": "code",
   "execution_count": 20,
   "id": "4d7f172f-87a9-4485-b4fa-199522555f7a",
   "metadata": {},
   "outputs": [],
   "source": [
    "Map = geemap.Map()"
   ]
  },
  {
   "cell_type": "code",
   "execution_count": 21,
   "id": "95e152bb-28ac-4fa2-9e9c-76b7a61dfa4c",
   "metadata": {},
   "outputs": [],
   "source": [
    "trueColor321Vis = {\n",
    "  'gamma': [0.95*1.5, 1.1*1.5, 1*1.5]\n",
    "};\n",
    "Map.addLayer(img87.clip(roi), trueColor321Vis, 'img87')\n",
    "Map.addLayer(img92.clip(roi), trueColor321Vis, 'img92')\n",
    "Map.addLayer(img95.clip(roi), trueColor321Vis, 'img95')\n",
    "Map.addLayer(img01.clip(roi), trueColor321Vis, 'img01')\n",
    "Map.addLayer(img05.clip(roi), trueColor321Vis, 'img05')\n",
    "Map.addLayer(img10.clip(roi), trueColor321Vis, 'img10')\n",
    "Map.addLayer(img15.clip(roi), trueColor321Vis, 'img15')\n",
    "Map.addLayer(img20.clip(roi), trueColor321Vis, 'img20')"
   ]
  },
  {
   "cell_type": "code",
   "execution_count": 22,
   "id": "096b1799-cc71-4f06-b0b5-fdd7f24b0830",
   "metadata": {},
   "outputs": [],
   "source": [
    "Map.addLayer(class87md.clip(roi), {'min':1, 'max':3, 'palette': ['#0080FF', 'red', 'green']}, 'class87md')\n",
    "Map.addLayer(class92md.clip(roi), {'min':1, 'max':3, 'palette': ['#0080FF', 'red', 'green']}, 'class92md')\n",
    "Map.addLayer(class95md.clip(roi), {'min':1, 'max':3, 'palette': ['#0080FF', 'red', 'green']}, 'class95md')\n",
    "Map.addLayer(class01md.clip(roi), {'min':1, 'max':3, 'palette': ['#0080FF', 'red', 'green']}, 'class01md')\n",
    "Map.addLayer(class05md.clip(roi), {'min':1, 'max':3, 'palette': ['#0080FF', 'red', 'green']}, 'class05md')\n",
    "Map.addLayer(class10md.clip(roi), {'min':1, 'max':3, 'palette': ['#0080FF', 'red', 'green']}, 'class10md')\n",
    "Map.addLayer(class15md.clip(roi), {'min':1, 'max':3, 'palette': ['#0080FF', 'red', 'green']}, 'class15md')\n",
    "Map.addLayer(class20md.clip(roi), {'min':1, 'max':3, 'palette': ['#0080FF', 'red', 'green']}, 'class20md')"
   ]
  },
  {
   "cell_type": "code",
   "execution_count": 23,
   "id": "fd2b4621",
   "metadata": {},
   "outputs": [],
   "source": [
    "ndvi87 = img87.normalizedDifference(['NIR', 'Red']).rename('NDVI')\n",
    "ndvi92 = img92.normalizedDifference(['NIR', 'Red']).rename('NDVI')\n",
    "ndvi95 = img95.normalizedDifference(['NIR', 'Red']).rename('NDVI')\n",
    "ndvi01 = img01.normalizedDifference(['NIR', 'Red']).rename('NDVI')\n",
    "ndvi05 = img05.normalizedDifference(['NIR', 'Red']).rename('NDVI')\n",
    "ndvi10 = img10.normalizedDifference(['NIR', 'Red']).rename('NDVI')\n",
    "ndvi15 = img15.normalizedDifference(['NIR', 'Red']).rename('NDVI')\n",
    "ndvi20 = img20.normalizedDifference(['NIR', 'Red']).rename('NDVI')"
   ]
  },
  {
   "cell_type": "code",
   "execution_count": 24,
   "id": "b2513a7d",
   "metadata": {},
   "outputs": [],
   "source": [
    "def plot_hist(img, ltb, name, scale=3, alpha=0.8):\n",
    "    my_sample = img.clip(ltb).sample(ltb, numPixels=5000, scale=scale)\n",
    "    l = my_sample.getInfo()['features']\n",
    "    stat = [i['properties'][name] for i in l]\n",
    "    plt.hist(stat, density=True, bins=100, alpha=alpha)"
   ]
  },
  {
   "cell_type": "code",
   "execution_count": 34,
   "id": "974bb525",
   "metadata": {},
   "outputs": [
    {
     "data": {
      "text/plain": [
       "{'type': 'Feature',\n",
       " 'geometry': None,\n",
       " 'id': '0',\n",
       " 'properties': {'NDVI': -0.18914877710135647}}"
      ]
     },
     "execution_count": 34,
     "metadata": {},
     "output_type": "execute_result"
    }
   ],
   "source": [
    "ndvi87.clip(roi).sample(roi, numPixels=5000, scale=30).getInfo()['features'][0]['properties']"
   ]
  },
  {
   "cell_type": "code",
   "execution_count": 39,
   "id": "a5687657",
   "metadata": {},
   "outputs": [
    {
     "data": {
      "image/png": "[encoded data removed]",
      "text/plain": [
       "<Figure size 432x288 with 1 Axes>"
      ]
     },
     "metadata": {
      "needs_background": "light"
     },
     "output_type": "display_data"
    }
   ],
   "source": [
    "plot_hist(ndvi87, roi, 'NDVI', scale=30);"
   ]
  },
  {
   "cell_type": "code",
   "execution_count": 40,
   "id": "f4d5f2cc",
   "metadata": {},
   "outputs": [
    {
     "data": {
      "image/png": "[encoded data removed]",
      "text/plain": [
       "<Figure size 432x288 with 1 Axes>"
      ]
     },
     "metadata": {
      "needs_background": "light"
     },
     "output_type": "display_data"
    }
   ],
   "source": [
    "plot_hist(ndvi92, roi, 'NDVI', scale=30);"
   ]
  },
  {
   "cell_type": "code",
   "execution_count": 41,
   "id": "1360407e",
   "metadata": {},
   "outputs": [
    {
     "data": {
      "image/png": "[encoded data removed]",
      "text/plain": [
       "<Figure size 432x288 with 1 Axes>"
      ]
     },
     "metadata": {
      "needs_background": "light"
     },
     "output_type": "display_data"
    }
   ],
   "source": [
    "plot_hist(ndvi95, roi, 'NDVI', scale=30);"
   ]
  },
  {
   "cell_type": "code",
   "execution_count": 42,
   "id": "5d1746b4",
   "metadata": {},
   "outputs": [
    {
     "data": {
      "image/png": "[encoded data removed]",
      "text/plain": [
       "<Figure size 432x288 with 1 Axes>"
      ]
     },
     "metadata": {
      "needs_background": "light"
     },
     "output_type": "display_data"
    }
   ],
   "source": [
    "plot_hist(ndvi01, roi, 'NDVI', scale=30);"
   ]
  },
  {
   "cell_type": "code",
   "execution_count": 43,
   "id": "2134ca9c",
   "metadata": {},
   "outputs": [
    {
     "data": {
      "image/png": "[encoded data removed]",
      "text/plain": [
       "<Figure size 432x288 with 1 Axes>"
      ]
     },
     "metadata": {
      "needs_background": "light"
     },
     "output_type": "display_data"
    }
   ],
   "source": [
    "plot_hist(ndvi05, roi, 'NDVI', scale=30);"
   ]
  },
  {
   "cell_type": "code",
   "execution_count": 44,
   "id": "049a6bff",
   "metadata": {},
   "outputs": [
    {
     "data": {
      "image/png": "[encoded data removed]",
      "text/plain": [
       "<Figure size 432x288 with 1 Axes>"
      ]
     },
     "metadata": {
      "needs_background": "light"
     },
     "output_type": "display_data"
    }
   ],
   "source": [
    "plot_hist(ndvi10, roi, 'NDVI', scale=30);"
   ]
  },
  {
   "cell_type": "code",
   "execution_count": 45,
   "id": "836d6e3e",
   "metadata": {},
   "outputs": [
    {
     "data": {
      "image/png": "[encoded data removed]",
      "text/plain": [
       "<Figure size 432x288 with 1 Axes>"
      ]
     },
     "metadata": {
      "needs_background": "light"
     },
     "output_type": "display_data"
    }
   ],
   "source": [
    "plot_hist(ndvi15, roi, 'NDVI', scale=30);"
   ]
  },
  {
   "cell_type": "code",
   "execution_count": 46,
   "id": "620b4696",
   "metadata": {},
   "outputs": [
    {
     "data": {
      "image/png": "[encoded data removed]",
      "text/plain": [
       "<Figure size 432x288 with 1 Axes>"
      ]
     },
     "metadata": {
      "needs_background": "light"
     },
     "output_type": "display_data"
    }
   ],
   "source": [
    "plot_hist(ndvi20, roi, 'NDVI', scale=30);"
   ]
  },
  {
   "cell_type": "code",
   "execution_count": 8,
   "id": "8e9b4542",
   "metadata": {},
   "outputs": [],
   "source": [
    "Map.addLayer(class15md.clip(roi), {'min':1, 'max':3, 'palette': ['#0080FF', 'red', 'green']}, 'class15md')"
   ]
  },
  {
   "cell_type": "code",
   "execution_count": 9,
   "id": "ac72ba77",
   "metadata": {},
   "outputs": [],
   "source": [
    "collection1 = ee.ImageCollection.fromImages([img87, img92, img01, img05, img10, img15, img20])"
   ]
  },
  {
   "cell_type": "code",
   "execution_count": 10,
   "id": "ca0a3c04",
   "metadata": {},
   "outputs": [
    {
     "data": {
      "application/vnd.jupyter.widget-view+json": {
       "model_id": "a91fd4cd478f4a2c8d38f3d82d768b0d",
       "version_major": 2,
       "version_minor": 0
      },
      "text/plain": [
       "Map(center=[20, 0], controls=(WidgetControl(options=['position', 'transparent_bg'], widget=HBox(children=(Togg…"
      ]
     },
     "metadata": {},
     "output_type": "display_data"
    }
   ],
   "source": [
    "Map"
   ]
  },
  {
   "cell_type": "code",
   "execution_count": 11,
   "id": "37747f3d",
   "metadata": {},
   "outputs": [
    {
     "ename": "NameError",
     "evalue": "name 'class20rf' is not defined",
     "output_type": "error",
     "traceback": [
      "\u001b[0;31m---------------------------------------------------------------------------\u001b[0m",
      "\u001b[0;31mNameError\u001b[0m                                 Traceback (most recent call last)",
      "\u001b[0;32m<ipython-input-11-cf9c912de274>\u001b[0m in \u001b[0;36m<module>\u001b[0;34m\u001b[0m\n\u001b[0;32m----> 1\u001b[0;31m \u001b[0mMap\u001b[0m\u001b[0;34m.\u001b[0m\u001b[0maddLayer\u001b[0m\u001b[0;34m(\u001b[0m\u001b[0mclass20rf\u001b[0m\u001b[0;34m.\u001b[0m\u001b[0mclip\u001b[0m\u001b[0;34m(\u001b[0m\u001b[0mroi\u001b[0m\u001b[0;34m)\u001b[0m\u001b[0;34m.\u001b[0m\u001b[0meq\u001b[0m\u001b[0;34m(\u001b[0m\u001b[0;36m2\u001b[0m\u001b[0;34m)\u001b[0m\u001b[0;34m.\u001b[0m\u001b[0mselfMask\u001b[0m\u001b[0;34m(\u001b[0m\u001b[0;34m)\u001b[0m\u001b[0;34m,\u001b[0m \u001b[0;34m{\u001b[0m\u001b[0;34m'palette'\u001b[0m\u001b[0;34m:\u001b[0m \u001b[0;34m[\u001b[0m\u001b[0;34m'red'\u001b[0m\u001b[0;34m]\u001b[0m\u001b[0;34m}\u001b[0m\u001b[0;34m,\u001b[0m \u001b[0;34m'class20rf'\u001b[0m\u001b[0;34m)\u001b[0m\u001b[0;34m\u001b[0m\u001b[0;34m\u001b[0m\u001b[0m\n\u001b[0m",
      "\u001b[0;31mNameError\u001b[0m: name 'class20rf' is not defined"
     ]
    }
   ],
   "source": [
    "Map.addLayer(class20rf.clip(roi).eq(2).selfMask(), {'palette': ['red']}, 'class20rf')"
   ]
  },
  {
   "cell_type": "code",
   "execution_count": null,
   "id": "c28dfc50",
   "metadata": {},
   "outputs": [],
   "source": [
    "Map.addLayer(class20rf2.clip(roi).eq(2).selfMask(), {'palette': ['yellow']}, 'class20rf1')"
   ]
  },
  {
   "cell_type": "code",
   "execution_count": null,
   "id": "df249e41",
   "metadata": {},
   "outputs": [],
   "source": [
    "ndvi20 = img20.normalizedDifference(['NIR', 'Red']).rename('NDVI')\n",
    "evi20 = Evi(img20).rename('EVI')\n",
    "ndwi20 = img20.normalizedDifference(['Green', 'NIR']).rename('NDWI')"
   ]
  },
  {
   "cell_type": "code",
   "execution_count": null,
   "id": "695c593e",
   "metadata": {},
   "outputs": [],
   "source": [
    "Map.addLayer(ndvi20.clip(roi).lt(0.2).And(ndvi20.gt(0.1)).selfMask(), {}, 'ndvi20')"
   ]
  },
  {
   "cell_type": "code",
   "execution_count": null,
   "id": "e81d1c95",
   "metadata": {},
   "outputs": [],
   "source": [
    "Map.addLayer(ndvi20.lt(0).clip(roi).selfMask(), {'palette': 'blue'}, 'ndvi')"
   ]
  },
  {
   "cell_type": "code",
   "execution_count": null,
   "id": "704d13c0",
   "metadata": {},
   "outputs": [],
   "source": [
    "Map.addLayer(ndwi20.clip(roi).gt(0).selfMask(), {}, 'nd2i20')"
   ]
  },
  {
   "cell_type": "code",
   "execution_count": null,
   "id": "e269ad60",
   "metadata": {},
   "outputs": [],
   "source": [
    "Map.addLayer(evi20.clip(roi).lt(0.2).selfMask(), {}, 'evi20')"
   ]
  },
  {
   "cell_type": "code",
   "execution_count": null,
   "id": "25543ce5-13f3-444e-a7ba-d3c9d7cfdd40",
   "metadata": {},
   "outputs": [],
   "source": [
    "Map"
   ]
  },
  {
   "cell_type": "code",
   "execution_count": null,
   "id": "ae58fe22-63f8-48ef-9c4e-6c64f33b09d8",
   "metadata": {},
   "outputs": [],
   "source": []
  }
 ],
 "metadata": {
  "kernelspec": {
   "display_name": "Python 3 (ipykernel)",
   "language": "python",
   "name": "python3"
  },
  "language_info": {
   "codemirror_mode": {
    "name": "ipython",
    "version": 3
   },
   "file_extension": ".py",
   "mimetype": "text/x-python",
   "name": "python",
   "nbconvert_exporter": "python",
   "pygments_lexer": "ipython3",
   "version": "3.8.8"
  },
  "toc": {
   "base_numbering": 1,
   "nav_menu": {},
   "number_sections": true,
   "sideBar": true,
   "skip_h1_title": false,
   "title_cell": "Table of Contents",
   "title_sidebar": "Contents",
   "toc_cell": false,
   "toc_position": {},
   "toc_section_display": true,
   "toc_window_display": false
  }
 },
 "nbformat": 4,
 "nbformat_minor": 5
}
